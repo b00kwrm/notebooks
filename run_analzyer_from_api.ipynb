{
 "cells": [
  {
   "cell_type": "markdown",
   "metadata": {},
   "source": [
    "# Run a timesketch analyser from the api on an already imported timeline\n",
    "This is a notebook to remember how to run an analyzer from the api on an already imported timeline."
   ]
  },
  {
   "cell_type": "markdown",
   "metadata": {},
   "source": [
    "First you need to install some packages"
   ]
  },
  {
   "cell_type": "code",
   "execution_count": 2,
   "metadata": {},
   "outputs": [
    {
     "name": "stdout",
     "output_type": "stream",
     "text": [
      "Requirement already satisfied: timesketch_api_client in ./jupyter_env/lib/python3.8/site-packages (20201204)\n",
      "Requirement already satisfied: beautifulsoup4 in ./jupyter_env/lib/python3.8/site-packages (from timesketch_api_client) (4.9.3)\n",
      "Requirement already satisfied: pandas in ./jupyter_env/lib/python3.8/site-packages (from timesketch_api_client) (1.1.4)\n",
      "Requirement already satisfied: altair in ./jupyter_env/lib/python3.8/site-packages (from timesketch_api_client) (4.1.0)\n",
      "Requirement already satisfied: google-auth in ./jupyter_env/lib/python3.8/site-packages (from timesketch_api_client) (1.23.0)\n",
      "Requirement already satisfied: cryptography in ./jupyter_env/lib/python3.8/site-packages (from timesketch_api_client) (3.2.1)\n",
      "Requirement already satisfied: requests in ./jupyter_env/lib/python3.8/site-packages (from timesketch_api_client) (2.25.0)\n",
      "Requirement already satisfied: google-auth-oauthlib in ./jupyter_env/lib/python3.8/site-packages (from timesketch_api_client) (0.4.2)\n",
      "Requirement already satisfied: soupsieve>1.2; python_version >= \"3.0\" in ./jupyter_env/lib/python3.8/site-packages (from beautifulsoup4->timesketch_api_client) (2.0.1)\n",
      "Requirement already satisfied: numpy>=1.15.4 in ./jupyter_env/lib/python3.8/site-packages (from pandas->timesketch_api_client) (1.19.4)\n",
      "Requirement already satisfied: python-dateutil>=2.7.3 in ./jupyter_env/lib/python3.8/site-packages (from pandas->timesketch_api_client) (2.8.1)\n",
      "Requirement already satisfied: pytz>=2017.2 in ./jupyter_env/lib/python3.8/site-packages (from pandas->timesketch_api_client) (2020.4)\n",
      "Requirement already satisfied: entrypoints in ./jupyter_env/lib/python3.8/site-packages (from altair->timesketch_api_client) (0.3)\n",
      "Requirement already satisfied: jinja2 in ./jupyter_env/lib/python3.8/site-packages (from altair->timesketch_api_client) (2.11.2)\n",
      "Requirement already satisfied: jsonschema in ./jupyter_env/lib/python3.8/site-packages (from altair->timesketch_api_client) (3.2.0)\n",
      "Requirement already satisfied: toolz in ./jupyter_env/lib/python3.8/site-packages (from altair->timesketch_api_client) (0.11.1)\n",
      "Requirement already satisfied: setuptools>=40.3.0 in ./jupyter_env/lib/python3.8/site-packages (from google-auth->timesketch_api_client) (44.0.0)\n",
      "Requirement already satisfied: six>=1.9.0 in ./jupyter_env/lib/python3.8/site-packages (from google-auth->timesketch_api_client) (1.15.0)\n",
      "Requirement already satisfied: rsa<5,>=3.1.4; python_version >= \"3.5\" in ./jupyter_env/lib/python3.8/site-packages (from google-auth->timesketch_api_client) (4.6)\n",
      "Requirement already satisfied: pyasn1-modules>=0.2.1 in ./jupyter_env/lib/python3.8/site-packages (from google-auth->timesketch_api_client) (0.2.8)\n",
      "Requirement already satisfied: cachetools<5.0,>=2.0.0 in ./jupyter_env/lib/python3.8/site-packages (from google-auth->timesketch_api_client) (4.1.1)\n",
      "Requirement already satisfied: cffi!=1.11.3,>=1.8 in ./jupyter_env/lib/python3.8/site-packages (from cryptography->timesketch_api_client) (1.14.4)\n",
      "Requirement already satisfied: chardet<4,>=3.0.2 in ./jupyter_env/lib/python3.8/site-packages (from requests->timesketch_api_client) (3.0.4)\n",
      "Requirement already satisfied: urllib3<1.27,>=1.21.1 in ./jupyter_env/lib/python3.8/site-packages (from requests->timesketch_api_client) (1.26.2)\n",
      "Requirement already satisfied: idna<3,>=2.5 in ./jupyter_env/lib/python3.8/site-packages (from requests->timesketch_api_client) (2.10)\n",
      "Requirement already satisfied: certifi>=2017.4.17 in ./jupyter_env/lib/python3.8/site-packages (from requests->timesketch_api_client) (2020.12.5)\n",
      "Requirement already satisfied: requests-oauthlib>=0.7.0 in ./jupyter_env/lib/python3.8/site-packages (from google-auth-oauthlib->timesketch_api_client) (1.3.0)\n",
      "Requirement already satisfied: MarkupSafe>=0.23 in ./jupyter_env/lib/python3.8/site-packages (from jinja2->altair->timesketch_api_client) (1.1.1)\n",
      "Requirement already satisfied: attrs>=17.4.0 in ./jupyter_env/lib/python3.8/site-packages (from jsonschema->altair->timesketch_api_client) (20.3.0)\n",
      "Requirement already satisfied: pyrsistent>=0.14.0 in ./jupyter_env/lib/python3.8/site-packages (from jsonschema->altair->timesketch_api_client) (0.17.3)\n",
      "Requirement already satisfied: pyasn1>=0.1.3 in ./jupyter_env/lib/python3.8/site-packages (from rsa<5,>=3.1.4; python_version >= \"3.5\"->google-auth->timesketch_api_client) (0.4.8)\n",
      "Requirement already satisfied: pycparser in ./jupyter_env/lib/python3.8/site-packages (from cffi!=1.11.3,>=1.8->cryptography->timesketch_api_client) (2.20)\n",
      "Requirement already satisfied: oauthlib>=3.0.0 in ./jupyter_env/lib/python3.8/site-packages (from requests-oauthlib>=0.7.0->google-auth-oauthlib->timesketch_api_client) (3.1.0)\n"
     ]
    }
   ],
   "source": [
    "!pip install timesketch_api_client"
   ]
  },
  {
   "cell_type": "markdown",
   "metadata": {},
   "source": [
    "Next you need to do your imports"
   ]
  },
  {
   "cell_type": "code",
   "execution_count": 6,
   "metadata": {},
   "outputs": [],
   "source": [
    "# @title Import libraries\n",
    "# @markdown This cell will import all the libraries needed for the running of this colab.\n",
    "# Stolen from googlers.\n",
    "from timesketch_api_client import config\n",
    "from timesketch_import_client import helper\n",
    "from timesketch_import_client import importer\n",
    "from timesketch_api_client import client"
   ]
  },
  {
   "cell_type": "markdown",
   "metadata": {},
   "source": [
    "Get a copy of the timesketch client. This will prompt for info about where to find timesketch"
   ]
  },
  {
   "cell_type": "code",
   "execution_count": 16,
   "metadata": {},
   "outputs": [
    {
     "name": "stdout",
     "output_type": "stream",
     "text": [
      "Want to change the value for \"host_uri\" [http://ec2-18-191-32-121.us-east-2.compute.amazonaws.com/] [y/N]: n\n",
      "Want to change the value for \"client_id\" [] [y/N]: n\n",
      "Want to change the value for \"client_secret\" [] [y/N]: n\n",
      "Want to change the value for \"auth_mode\" [userpass] [y/N]: n\n",
      "Want to change credentials? [y/N]: y\n",
      "What is the username? [loopy]: loopy\n",
      "Password for user loopy [**] ········\n"
     ]
    },
    {
     "name": "stderr",
     "output_type": "stream",
     "text": [
      "INFO:timesketch_api.crypto_client:Credentials saved to: /home/ubuntu/.timesketch.token\n"
     ]
    }
   ],
   "source": [
    "ts_client = config.get_client(confirm_choices=True)"
   ]
  },
  {
   "cell_type": "markdown",
   "metadata": {},
   "source": [
    "List sketches"
   ]
  },
  {
   "cell_type": "code",
   "execution_count": 21,
   "metadata": {},
   "outputs": [
    {
     "name": "stdout",
     "output_type": "stream",
     "text": [
      "sketch id:1 sketch name:szechuan sketch description:\n"
     ]
    }
   ],
   "source": [
    "for sketch in ts_client.list_sketches():\n",
    "    print(f\"sketch id:{sketch.id} sketch name:{sketch.name} sketch description:{sketch.description}\")\n",
    "    \n"
   ]
  },
  {
   "cell_type": "markdown",
   "metadata": {},
   "source": [
    "Grab the sketch that you want to work with."
   ]
  },
  {
   "cell_type": "code",
   "execution_count": 32,
   "metadata": {},
   "outputs": [],
   "source": [
    "for sketch in ts_client.list_sketches():\n",
    "    if  sketch.id == 1:\n",
    "        working_sketch = sketch"
   ]
  },
  {
   "cell_type": "markdown",
   "metadata": {},
   "source": [
    "List available analyzers for the sketch."
   ]
  },
  {
   "cell_type": "code",
   "execution_count": 37,
   "metadata": {},
   "outputs": [
    {
     "data": {
      "text/plain": [
       "['web_activity_sessionizer',\n",
       " 'ssh_bruteforce_sessionizer',\n",
       " 'similarity_scorer',\n",
       " 'tagger',\n",
       " 'ntfs_timestomp',\n",
       " 'sigma',\n",
       " 'evtx_gap',\n",
       " 'safebrowsing',\n",
       " 'feature_extraction',\n",
       " 'ssh_sessionizer',\n",
       " 'win_crash',\n",
       " 'chain',\n",
       " 'login',\n",
       " 'gcp_servicekey',\n",
       " 'sessionizer',\n",
       " 'domain',\n",
       " 'browser_timeframe',\n",
       " 'yetiindicators',\n",
       " 'phishy_domains',\n",
       " 'browser_search',\n",
       " 'account_finder']"
      ]
     },
     "execution_count": 37,
     "metadata": {},
     "output_type": "execute_result"
    }
   ],
   "source": [
    "working_sketch.list_available_analyzers()"
   ]
  },
  {
   "cell_type": "markdown",
   "metadata": {},
   "source": [
    "Get a list of available timelines to run the analyzers against."
   ]
  },
  {
   "cell_type": "code",
   "execution_count": 41,
   "metadata": {},
   "outputs": [
    {
     "name": "stdout",
     "output_type": "stream",
     "text": [
      "autoruns_desktop_sdn1rpt_w_time\n",
      "autoruns_citadel_dc01_w_time\n",
      "desktop-sdn1rpt.plaso\n",
      "network_pcap_with_scapy\n",
      "wireshark_decoded_pcap\n",
      "20200918_0347_CDrive_new\n"
     ]
    }
   ],
   "source": [
    "for x in working_sketch.list_timelines():\n",
    "    print(x.name)"
   ]
  },
  {
   "cell_type": "markdown",
   "metadata": {},
   "source": [
    "Run the analyzer against your selected timeline."
   ]
  },
  {
   "cell_type": "code",
   "execution_count": 43,
   "metadata": {},
   "outputs": [],
   "source": [
    "x = working_sketch.run_analyzer(analyzer_name=\"browser_search\", timeline_name=\"desktop-sdn1rpt.plaso\")\n",
    "y = working_sketch.run_analyzer(analyzer_name=\"browser_search\", timeline_name=\"20200918_0347_CDrive_new\")\n",
    "\n"
   ]
  },
  {
   "cell_type": "markdown",
   "metadata": {},
   "source": [
    "Get status for the analyzers"
   ]
  },
  {
   "cell_type": "code",
   "execution_count": 49,
   "metadata": {},
   "outputs": [
    {
     "name": "stdout",
     "output_type": "stream",
     "text": [
      "the status of the first analyzer is [domain] = DONE\n",
      "[browser_search] = DONE\n",
      "the status of the second analyzer is [domain] = DONE\n",
      "[browser_search] = DONE\n"
     ]
    }
   ],
   "source": [
    "print(f\"the status of the first analyzer is {x.status}\")\n",
    "print(f\"the status of the second analyzer is {x.status}\")"
   ]
  },
  {
   "cell_type": "markdown",
   "metadata": {},
   "source": [
    "Now you have run the analyzer on your already loaded timelines."
   ]
  }
 ],
 "metadata": {
  "kernelspec": {
   "display_name": "Python 3",
   "language": "python",
   "name": "python3"
  },
  "language_info": {
   "codemirror_mode": {
    "name": "ipython",
    "version": 3
   },
   "file_extension": ".py",
   "mimetype": "text/x-python",
   "name": "python",
   "nbconvert_exporter": "python",
   "pygments_lexer": "ipython3",
   "version": "3.8.5"
  }
 },
 "nbformat": 4,
 "nbformat_minor": 4
}
