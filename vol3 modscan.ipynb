{
 "cells": [
  {
   "cell_type": "code",
   "execution_count": 1,
   "metadata": {},
   "outputs": [],
   "source": [
    "import os\n",
    "import codecs\n",
    "import pandas as pd"
   ]
  },
  {
   "cell_type": "code",
   "execution_count": 2,
   "metadata": {},
   "outputs": [
    {
     "name": "stdout",
     "output_type": "stream",
     "text": [
      "/home/ubuntu/jupyter/cases/stolen_szechuan_sauce/dc-modscan.csv\n"
     ]
    }
   ],
   "source": [
    "PATH_TO_FOLDER = '/home/ubuntu/jupyter/cases/stolen_szechuan_sauce/'\n",
    "CSV_FILE = 'dc-modscan.csv'\n",
    "PATH_TO_CSV = os.path.join(PATH_TO_FOLDER, CSV_FILE)\n",
    "print(PATH_TO_CSV)"
   ]
  },
  {
   "cell_type": "code",
   "execution_count": 3,
   "metadata": {},
   "outputs": [
    {
     "name": "stdout",
     "output_type": "stream",
     "text": [
      "(264, 7)\n"
     ]
    }
   ],
   "source": [
    "df = None\n",
    "with codecs.open(PATH_TO_CSV, 'r', encoding='utf-8', errors='replace') as fh:\n",
    "  df = pd.read_csv(fh, error_bad_lines=False)\n",
    "\n",
    "print(df.shape)"
   ]
  },
  {
   "cell_type": "code",
   "execution_count": 4,
   "metadata": {},
   "outputs": [
    {
     "name": "stdout",
     "output_type": "stream",
     "text": [
      "<class 'pandas.core.frame.DataFrame'>\n",
      "RangeIndex: 264 entries, 0 to 263\n",
      "Data columns (total 7 columns):\n",
      " #   Column       Non-Null Count  Dtype \n",
      "---  ------       --------------  ----- \n",
      " 0   TreeDepth    264 non-null    int64 \n",
      " 1   Offset       264 non-null    object\n",
      " 2   Base         264 non-null    object\n",
      " 3   Size         264 non-null    object\n",
      " 4   Name         256 non-null    object\n",
      " 5   Path         256 non-null    object\n",
      " 6   File output  264 non-null    object\n",
      "dtypes: int64(1), object(6)\n",
      "memory usage: 14.6+ KB\n"
     ]
    }
   ],
   "source": [
    "df.info()"
   ]
  },
  {
   "cell_type": "code",
   "execution_count": 5,
   "metadata": {},
   "outputs": [
    {
     "data": {
      "text/plain": [
       "rdbss.sys        4\n",
       "peauth.sys       4\n",
       "secdrv.SYS       3\n",
       "HTTP.sys         3\n",
       "rdpbus.sys       2\n",
       "                ..\n",
       "cng.sys          1\n",
       "werkernel.sys    1\n",
       "CI.dll           1\n",
       "msisadrv.sys     1\n",
       "kdcom.dll        1\n",
       "Name: Name, Length: 154, dtype: int64"
      ]
     },
     "execution_count": 5,
     "metadata": {},
     "output_type": "execute_result"
    }
   ],
   "source": [
    "df[\"Name\"].value_counts()"
   ]
  },
  {
   "cell_type": "code",
   "execution_count": 6,
   "metadata": {},
   "outputs": [
    {
     "data": {
      "text/plain": [
       "\\SystemRoot\\system32\\DRIVERS\\rdbss.sys       4\n",
       "\\SystemRoot\\system32\\drivers\\peauth.sys      4\n",
       "\\SystemRoot\\System32\\Drivers\\secdrv.SYS      3\n",
       "\\SystemRoot\\system32\\drivers\\HTTP.sys        3\n",
       "\\SystemRoot\\system32\\drivers\\nsiproxy.sys    2\n",
       "                                            ..\n",
       "\\SystemRoot\\System32\\drivers\\condrv.sys      1\n",
       "\\SystemRoot\\System32\\drivers\\CLFS.SYS        1\n",
       "\\SystemRoot\\system32\\kd.dll                  1\n",
       "\\SystemRoot\\system32\\drivers\\Wdf01000.sys    1\n",
       "\\SystemRoot\\System32\\drivers\\CLASSPNP.SYS    1\n",
       "Name: Path, Length: 154, dtype: int64"
      ]
     },
     "execution_count": 6,
     "metadata": {},
     "output_type": "execute_result"
    }
   ],
   "source": [
    "df[\"Path\"].value_counts()"
   ]
  },
  {
   "cell_type": "code",
   "execution_count": 7,
   "metadata": {},
   "outputs": [
    {
     "data": {
      "text/html": [
       "<div>\n",
       "<style scoped>\n",
       "    .dataframe tbody tr th:only-of-type {\n",
       "        vertical-align: middle;\n",
       "    }\n",
       "\n",
       "    .dataframe tbody tr th {\n",
       "        vertical-align: top;\n",
       "    }\n",
       "\n",
       "    .dataframe thead th {\n",
       "        text-align: right;\n",
       "    }\n",
       "</style>\n",
       "<table border=\"1\" class=\"dataframe\">\n",
       "  <thead>\n",
       "    <tr style=\"text-align: right;\">\n",
       "      <th></th>\n",
       "      <th>TreeDepth</th>\n",
       "      <th>Offset</th>\n",
       "      <th>Base</th>\n",
       "      <th>Size</th>\n",
       "      <th>Name</th>\n",
       "      <th>Path</th>\n",
       "      <th>File output</th>\n",
       "    </tr>\n",
       "  </thead>\n",
       "  <tbody>\n",
       "  </tbody>\n",
       "</table>\n",
       "</div>"
      ],
      "text/plain": [
       "Empty DataFrame\n",
       "Columns: [TreeDepth, Offset, Base, Size, Name, Path, File output]\n",
       "Index: []"
      ]
     },
     "execution_count": 7,
     "metadata": {},
     "output_type": "execute_result"
    }
   ],
   "source": [
    "df[df.stack().str.contains(\"coreupdate\").any(level=0)]"
   ]
  },
  {
   "cell_type": "code",
   "execution_count": 11,
   "metadata": {},
   "outputs": [
    {
     "data": {
      "text/html": [
       "<div>\n",
       "<style scoped>\n",
       "    .dataframe tbody tr th:only-of-type {\n",
       "        vertical-align: middle;\n",
       "    }\n",
       "\n",
       "    .dataframe tbody tr th {\n",
       "        vertical-align: top;\n",
       "    }\n",
       "\n",
       "    .dataframe thead th {\n",
       "        text-align: right;\n",
       "    }\n",
       "</style>\n",
       "<table border=\"1\" class=\"dataframe\">\n",
       "  <thead>\n",
       "    <tr style=\"text-align: right;\">\n",
       "      <th></th>\n",
       "      <th>TreeDepth</th>\n",
       "      <th>Offset</th>\n",
       "      <th>Base</th>\n",
       "      <th>Size</th>\n",
       "      <th>Name</th>\n",
       "      <th>Path</th>\n",
       "      <th>File output</th>\n",
       "    </tr>\n",
       "  </thead>\n",
       "  <tbody>\n",
       "    <tr>\n",
       "      <th>0</th>\n",
       "      <td>0</td>\n",
       "      <td>0xe968f0</td>\n",
       "      <td>0xf80065267000</td>\n",
       "      <td>0xc000</td>\n",
       "      <td>npsvctrig.sys</td>\n",
       "      <td>\\SystemRoot\\System32\\drivers\\npsvctrig.sys</td>\n",
       "      <td>Disabled</td>\n",
       "    </tr>\n",
       "    <tr>\n",
       "      <th>1</th>\n",
       "      <td>0</td>\n",
       "      <td>0xe96ae0</td>\n",
       "      <td>0xf80064c70000</td>\n",
       "      <td>0xe000</td>\n",
       "      <td>nsiproxy.sys</td>\n",
       "      <td>\\SystemRoot\\system32\\drivers\\nsiproxy.sys</td>\n",
       "      <td>Disabled</td>\n",
       "    </tr>\n",
       "    <tr>\n",
       "      <th>2</th>\n",
       "      <td>0</td>\n",
       "      <td>0xe96d00</td>\n",
       "      <td>0xf80064db2000</td>\n",
       "      <td>0x26000</td>\n",
       "      <td>dfsc.sys</td>\n",
       "      <td>\\SystemRoot\\System32\\Drivers\\dfsc.sys</td>\n",
       "      <td>Disabled</td>\n",
       "    </tr>\n",
       "    <tr>\n",
       "      <th>3</th>\n",
       "      <td>0</td>\n",
       "      <td>0x11aa0e0</td>\n",
       "      <td>0xf80064d1f000</td>\n",
       "      <td>0x93000</td>\n",
       "      <td>afd.sys</td>\n",
       "      <td>\\SystemRoot\\system32\\drivers\\afd.sys</td>\n",
       "      <td>Disabled</td>\n",
       "    </tr>\n",
       "    <tr>\n",
       "      <th>4</th>\n",
       "      <td>0</td>\n",
       "      <td>0x11f40c0</td>\n",
       "      <td>0xf80064c7e000</td>\n",
       "      <td>0xc000</td>\n",
       "      <td>mssmbios.sys</td>\n",
       "      <td>\\SystemRoot\\System32\\drivers\\mssmbios.sys</td>\n",
       "      <td>Disabled</td>\n",
       "    </tr>\n",
       "  </tbody>\n",
       "</table>\n",
       "</div>"
      ],
      "text/plain": [
       "   TreeDepth     Offset            Base     Size           Name  \\\n",
       "0          0   0xe968f0  0xf80065267000   0xc000  npsvctrig.sys   \n",
       "1          0   0xe96ae0  0xf80064c70000   0xe000   nsiproxy.sys   \n",
       "2          0   0xe96d00  0xf80064db2000  0x26000       dfsc.sys   \n",
       "3          0  0x11aa0e0  0xf80064d1f000  0x93000        afd.sys   \n",
       "4          0  0x11f40c0  0xf80064c7e000   0xc000   mssmbios.sys   \n",
       "\n",
       "                                         Path File output  \n",
       "0  \\SystemRoot\\System32\\drivers\\npsvctrig.sys    Disabled  \n",
       "1   \\SystemRoot\\system32\\drivers\\nsiproxy.sys    Disabled  \n",
       "2       \\SystemRoot\\System32\\Drivers\\dfsc.sys    Disabled  \n",
       "3        \\SystemRoot\\system32\\drivers\\afd.sys    Disabled  \n",
       "4   \\SystemRoot\\System32\\drivers\\mssmbios.sys    Disabled  "
      ]
     },
     "execution_count": 11,
     "metadata": {},
     "output_type": "execute_result"
    }
   ],
   "source": [
    "df.head()"
   ]
  }
 ],
 "metadata": {
  "kernelspec": {
   "display_name": "Python 3",
   "language": "python",
   "name": "python3"
  },
  "language_info": {
   "codemirror_mode": {
    "name": "ipython",
    "version": 3
   },
   "file_extension": ".py",
   "mimetype": "text/x-python",
   "name": "python",
   "nbconvert_exporter": "python",
   "pygments_lexer": "ipython3",
   "version": "3.8.5"
  }
 },
 "nbformat": 4,
 "nbformat_minor": 4
}
