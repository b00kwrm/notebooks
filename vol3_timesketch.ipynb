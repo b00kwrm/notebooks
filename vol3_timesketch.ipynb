{
 "cells": [
  {
   "cell_type": "markdown",
   "metadata": {},
   "source": [
    "# Add a volatility3 timeline to timesketch\n",
    "This will run through how to add a volatility timeline to timesketch"
   ]
  },
  {
   "cell_type": "markdown",
   "metadata": {},
   "source": [
    "Get libraries needed."
   ]
  },
  {
   "cell_type": "code",
   "execution_count": 70,
   "metadata": {},
   "outputs": [],
   "source": [
    "import os\n",
    "import codecs\n",
    "import pandas as pd\n",
    "from timesketch_api_client import config\n",
    "from timesketch_import_client import helper\n",
    "from timesketch_import_client import importer\n",
    "from timesketch_api_client import client"
   ]
  },
  {
   "cell_type": "markdown",
   "metadata": {},
   "source": [
    "Get volatililty3 from github"
   ]
  },
  {
   "cell_type": "code",
   "execution_count": 1,
   "metadata": {},
   "outputs": [
    {
     "name": "stdout",
     "output_type": "stream",
     "text": [
      "Cloning into 'volatility3'...\n",
      "remote: Enumerating objects: 238, done.\u001b[K\n",
      "remote: Counting objects: 100% (238/238), done.\u001b[K\n",
      "remote: Compressing objects: 100% (175/175), done.\u001b[K\n",
      "remote: Total 21563 (delta 145), reused 107 (delta 63), pack-reused 21325\u001b[K\n",
      "Receiving objects: 100% (21563/21563), 4.05 MiB | 9.26 MiB/s, done.\n",
      "Resolving deltas: 100% (16153/16153), done.\n"
     ]
    }
   ],
   "source": [
    "!git clone https://github.com/volatilityfoundation/volatility3.git"
   ]
  },
  {
   "cell_type": "markdown",
   "metadata": {},
   "source": [
    "Test out vol.py"
   ]
  },
  {
   "cell_type": "code",
   "execution_count": 10,
   "metadata": {},
   "outputs": [
    {
     "name": "stdout",
     "output_type": "stream",
     "text": [
      "Volatility 3 Framework 2.0.0-beta.1\n",
      "usage: volatility [-h] [-c CONFIG] [--parallelism [{processes,threads,off}]]\n",
      "                  [-e EXTEND] [-p PLUGIN_DIRS] [-s SYMBOL_DIRS] [-v] [-l LOG]\n",
      "                  [-o OUTPUT_DIR] [-q] [-r RENDERER] [-f FILE]\n",
      "                  [--write-config] [--clear-cache]\n",
      "                  [--single-location SINGLE_LOCATION]\n",
      "                  [--stackers [STACKERS [STACKERS ...]]]\n",
      "                  [--single-swap-locations [SINGLE_SWAP_LOCATIONS [SINGLE_SWAP_LOCATIONS ...]]]\n",
      "                  plugin ...\n",
      "\n",
      "An open-source memory forensics framework\n",
      "\n",
      "optional arguments:\n",
      "  -h, --help            Show this help message and exit, for specific plugin\n",
      "                        options use 'volatility <pluginname> --help'\n",
      "  -c CONFIG, --config CONFIG\n",
      "                        Load the configuration from a json file\n",
      "  --parallelism [{processes,threads,off}]\n",
      "                        Enables parallelism (defaults to processes if no\n",
      "                        argument given)\n",
      "  -e EXTEND, --extend EXTEND\n",
      "                        Extend the configuration with a new (or changed)\n",
      "                        setting\n",
      "  -p PLUGIN_DIRS, --plugin-dirs PLUGIN_DIRS\n",
      "                        Semi-colon separated list of paths to find plugins\n",
      "  -s SYMBOL_DIRS, --symbol-dirs SYMBOL_DIRS\n",
      "                        Semi-colon separated list of paths to find symbols\n",
      "  -v, --verbosity       Increase output verbosity\n",
      "  -l LOG, --log LOG     Log output to a file as well as the console\n",
      "  -o OUTPUT_DIR, --output-dir OUTPUT_DIR\n",
      "                        Directory in which to output any generated files\n",
      "  -q, --quiet           Remove progress feedback\n",
      "  -r RENDERER, --renderer RENDERER\n",
      "                        Determines how to render the output (quick, csv,\n",
      "                        pretty, json, jsonl)\n",
      "  -f FILE, --file FILE  Shorthand for --single-location=file:// if single-\n",
      "                        location is not defined\n",
      "  --write-config        Write configuration JSON file out to config.json\n",
      "  --clear-cache         Clears out all short-term cached items\n",
      "  --single-location SINGLE_LOCATION\n",
      "                        Specifies a base location on which to stack\n",
      "  --stackers [STACKERS [STACKERS ...]]\n",
      "                        List of stackers\n",
      "  --single-swap-locations [SINGLE_SWAP_LOCATIONS [SINGLE_SWAP_LOCATIONS ...]]\n",
      "                        Specifies a list of swap layer URIs for use with\n",
      "                        single-location\n",
      "\n",
      "Plugins:\n",
      "  For plugin specific options, run 'volatility <plugin> --help'\n",
      "\n",
      "  plugin\n",
      "    banners.Banners     Attempts to identify potential linux banners in an\n",
      "                        image\n",
      "    configwriter.ConfigWriter\n",
      "                        Runs the automagics and both prints and outputs\n",
      "                        configuration in the output directory.\n",
      "    frameworkinfo.FrameworkInfo\n",
      "                        Plugin to list the various modular components of\n",
      "                        Volatility\n",
      "    isfinfo.IsfInfo     Determines information about the currently available\n",
      "                        ISF files, or a specific one\n",
      "    layerwriter.LayerWriter\n",
      "                        Runs the automagics and writes out the primary layer\n",
      "                        produced by the stacker.\n",
      "    linux.bash.Bash     Recovers bash command history from memory.\n",
      "    linux.check_afinfo.Check_afinfo\n",
      "                        Verifies the operation function pointers of network\n",
      "                        protocols.\n",
      "    linux.check_creds.Check_creds\n",
      "                        Checks if any processes are sharing credential\n",
      "                        structures\n",
      "    linux.check_idt.Check_idt\n",
      "                        Checks if the IDT has been altered\n",
      "    linux.check_modules.Check_modules\n",
      "                        Compares module list to sysfs info, if available\n",
      "    linux.check_syscall.Check_syscall\n",
      "                        Check system call table for hooks.\n",
      "    linux.elfs.Elfs     Lists all memory mapped ELF files for all processes.\n",
      "    linux.keyboard_notifiers.Keyboard_notifiers\n",
      "                        Parses the keyboard notifier call chain\n",
      "    linux.lsmod.Lsmod   Lists loaded kernel modules.\n",
      "    linux.lsof.Lsof     Lists all memory maps for all processes.\n",
      "    linux.malfind.Malfind\n",
      "                        Lists process memory ranges that potentially contain\n",
      "                        injected code.\n",
      "    linux.proc.Maps     Lists all memory maps for all processes.\n",
      "    linux.pslist.PsList\n",
      "                        Lists the processes present in a particular linux\n",
      "                        memory image.\n",
      "    linux.pstree.PsTree\n",
      "                        Plugin for listing processes in a tree based on their\n",
      "                        parent process ID.\n",
      "    linux.tty_check.tty_check\n",
      "                        Checks tty devices for hooks\n",
      "    mac.bash.Bash       Recovers bash command history from memory.\n",
      "    mac.check_syscall.Check_syscall\n",
      "                        Check system call table for hooks.\n",
      "    mac.check_sysctl.Check_sysctl\n",
      "                        Check sysctl handlers for hooks.\n",
      "    mac.check_trap_table.Check_trap_table\n",
      "                        Check mach trap table for hooks.\n",
      "    mac.ifconfig.Ifconfig\n",
      "                        Lists loaded kernel modules\n",
      "    mac.kauth_listeners.Kauth_listeners\n",
      "                        Lists kauth listeners and their status\n",
      "    mac.kauth_scopes.Kauth_scopes\n",
      "                        Lists kauth scopes and their status\n",
      "    mac.kevents.Kevents\n",
      "                        Lists event handlers registered by processes\n",
      "    mac.list_files.List_Files\n",
      "                        Lists all open file descriptors for all processes.\n",
      "    mac.lsmod.Lsmod     Lists loaded kernel modules.\n",
      "    mac.lsof.Lsof       Lists all open file descriptors for all processes.\n",
      "    mac.malfind.Malfind\n",
      "                        Lists process memory ranges that potentially contain\n",
      "                        injected code.\n",
      "    mac.mount.Mount     A module containing a collection of plugins that\n",
      "                        produce data typically foundin Mac's mount command\n",
      "    mac.netstat.Netstat\n",
      "                        Lists all network connections for all processes.\n",
      "    mac.proc_maps.Maps  Lists process memory ranges that potentially contain\n",
      "                        injected code.\n",
      "    mac.psaux.Psaux     Recovers program command line arguments.\n",
      "    mac.pslist.PsList   Lists the processes present in a particular mac memory\n",
      "                        image.\n",
      "    mac.pstree.PsTree   Plugin for listing processes in a tree based on their\n",
      "                        parent process ID.\n",
      "    mac.socket_filters.Socket_filters\n",
      "                        Enumerates kernel socket filters.\n",
      "    mac.timers.Timers   Check for malicious kernel timers.\n",
      "    mac.trustedbsd.Trustedbsd\n",
      "                        Checks for malicious trustedbsd modules\n",
      "    mac.vfsevents.VFSevents\n",
      "                        Lists processes that are filtering file system events\n",
      "    timeliner.Timeliner\n",
      "                        Runs all relevant plugins that provide time related\n",
      "                        information and orders the results by time.\n",
      "    windows.bigpools.BigPools\n",
      "                        List big page pools.\n",
      "    windows.cmdline.CmdLine\n",
      "                        Lists process command line arguments.\n",
      "    windows.dlllist.DllList\n",
      "                        Lists the loaded modules in a particular windows\n",
      "                        memory image.\n",
      "    windows.driverirp.DriverIrp\n",
      "                        List IRPs for drivers in a particular windows memory\n",
      "                        image.\n",
      "    windows.driverscan.DriverScan\n",
      "                        Scans for drivers present in a particular windows\n",
      "                        memory image.\n",
      "    windows.envars.Envars\n",
      "                        Display process environment variables\n",
      "    windows.filescan.FileScan\n",
      "                        Scans for file objects present in a particular windows\n",
      "                        memory image.\n",
      "    windows.getservicesids.GetServiceSIDs\n",
      "                        Lists process token sids.\n",
      "    windows.getsids.GetSIDs\n",
      "                        Print the SIDs owning each process\n",
      "    windows.handles.Handles\n",
      "                        Lists process open handles.\n",
      "    windows.info.Info   Show OS & kernel details of the memory sample being\n",
      "                        analyzed.\n",
      "    windows.malfind.Malfind\n",
      "                        Lists process memory ranges that potentially contain\n",
      "                        injected code.\n",
      "    windows.memmap.Memmap\n",
      "                        Prints the memory map\n",
      "    windows.modscan.ModScan\n",
      "                        Scans for modules present in a particular windows\n",
      "                        memory image.\n",
      "    windows.modules.Modules\n",
      "                        Lists the loaded kernel modules.\n",
      "    windows.mutantscan.MutantScan\n",
      "                        Scans for mutexes present in a particular windows\n",
      "                        memory image.\n",
      "    windows.netscan.NetScan\n",
      "                        Scans for network objects present in a particular\n",
      "                        windows memory image.\n",
      "    windows.poolscanner.PoolScanner\n",
      "                        A generic pool scanner plugin.\n",
      "    windows.privileges.Privs\n",
      "                        Lists process token privileges\n",
      "    windows.pslist.PsList\n",
      "                        Lists the processes present in a particular windows\n",
      "                        memory image.\n",
      "    windows.psscan.PsScan\n",
      "                        Scans for processes present in a particular windows\n",
      "                        memory image.\n",
      "    windows.pstree.PsTree\n",
      "                        Plugin for listing processes in a tree based on their\n",
      "                        parent process ID.\n",
      "    windows.registry.certificates.Certificates\n",
      "                        Lists the certificates in the registry's Certificate\n",
      "                        Store.\n",
      "    windows.registry.hivelist.HiveList\n",
      "                        Lists the registry hives present in a particular\n",
      "                        memory image.\n",
      "    windows.registry.hivescan.HiveScan\n",
      "                        Scans for registry hives present in a particular\n",
      "                        windows memory image.\n",
      "    windows.registry.printkey.PrintKey\n",
      "                        Lists the registry keys under a hive or specific key\n",
      "                        value.\n",
      "    windows.registry.userassist.UserAssist\n",
      "                        Print userassist registry keys and information.\n",
      "    windows.ssdt.SSDT   Lists the system call table.\n",
      "    windows.statistics.Statistics\n",
      "    windows.strings.Strings\n",
      "                        Reads output from the strings command and indicates\n",
      "                        which process(es) each string belongs to.\n",
      "    windows.symlinkscan.SymlinkScan\n",
      "                        Scans for links present in a particular windows memory\n",
      "                        image.\n",
      "    windows.vadinfo.VadInfo\n",
      "                        Lists process memory ranges.\n",
      "    windows.virtmap.VirtMap\n",
      "                        Lists virtual mapped sections.\n",
      "\n",
      "The following plugins could not be loaded (use -vv to see why):\n",
      "volatility.plugins.windows.cachedump, volatility.plugins.windows.callbacks,\n",
      "volatility.plugins.windows.hashdump, volatility.plugins.windows.lsadump,\n",
      "volatility.plugins.windows.svcscan, volatility.plugins.windows.vadyarascan,\n",
      "volatility.plugins.windows.verinfo, volatility.plugins.yarascan\n"
     ]
    }
   ],
   "source": [
    "!/home/ubuntu/jupyter/volatility3/vol.py -h"
   ]
  },
  {
   "cell_type": "markdown",
   "metadata": {},
   "source": [
    "Run the timeline.Timliner plugin on the memory images to create a csv file.\n"
   ]
  },
  {
   "cell_type": "code",
   "execution_count": 4,
   "metadata": {},
   "outputs": [
    {
     "name": "stdout",
     "output_type": "stream",
     "text": [
      "/home/ubuntu/jupyter/cases/stolen_szechuan_sauce/citadeldc01_mem_timeline.csv\n"
     ]
    }
   ],
   "source": [
    "PATH_TO_FOLDER = '/home/ubuntu/jupyter/cases/stolen_szechuan_sauce/'\n",
    "MEMORY_IMAGE = 'citadeldc01.mem'\n",
    "OUTPUT_FILE = 'citadeldc01_mem_timeline.csv'\n",
    "PATH_TO_MEMORY_IMAGE = os.path.join(PATH_TO_FOLDER, MEMORY_IMAGE)\n",
    "PATH_TO_CSV = os.path.join(PATH_TO_FOLDER, OUTPUT_FILE)\n",
    "print(PATH_TO_CSV)"
   ]
  },
  {
   "cell_type": "markdown",
   "metadata": {
    "scrolled": true
   },
   "source": [
    "This seems to run faster when not run in jupyter\n",
    "\n",
    "!/home/ubuntu/jupyter/volatility3/vol.py -r csv -f /home/ubuntu/jupyter/cases/stolen_szechuan_sauce/citadeldc01.mem timeliner.Timeliner > /home/ubuntu/jupyter/cases/stolen_szechuan_sauce/citadeldc01_mem_timeline.csv\n"
   ]
  },
  {
   "cell_type": "markdown",
   "metadata": {},
   "source": [
    "Read the memory file into Pandas."
   ]
  },
  {
   "cell_type": "code",
   "execution_count": 5,
   "metadata": {},
   "outputs": [
    {
     "name": "stdout",
     "output_type": "stream",
     "text": [
      "(21923, 7)\n"
     ]
    }
   ],
   "source": [
    "df = None\n",
    "with codecs.open(PATH_TO_CSV, 'r', encoding='utf-8', errors='replace') as fh:\n",
    "  df = pd.read_csv(fh, error_bad_lines=False)\n",
    "\n",
    "print(df.shape)"
   ]
  },
  {
   "cell_type": "markdown",
   "metadata": {},
   "source": [
    "Looks like we got 2193 rows with 7 columns. Let's looke at the first few columns."
   ]
  },
  {
   "cell_type": "code",
   "execution_count": 6,
   "metadata": {},
   "outputs": [
    {
     "data": {
      "text/html": [
       "<div>\n",
       "<style scoped>\n",
       "    .dataframe tbody tr th:only-of-type {\n",
       "        vertical-align: middle;\n",
       "    }\n",
       "\n",
       "    .dataframe tbody tr th {\n",
       "        vertical-align: top;\n",
       "    }\n",
       "\n",
       "    .dataframe thead th {\n",
       "        text-align: right;\n",
       "    }\n",
       "</style>\n",
       "<table border=\"1\" class=\"dataframe\">\n",
       "  <thead>\n",
       "    <tr style=\"text-align: right;\">\n",
       "      <th></th>\n",
       "      <th>TreeDepth</th>\n",
       "      <th>Plugin</th>\n",
       "      <th>Description</th>\n",
       "      <th>Created Date</th>\n",
       "      <th>Modified Date</th>\n",
       "      <th>Accessed Date</th>\n",
       "      <th>Changed Date</th>\n",
       "    </tr>\n",
       "  </thead>\n",
       "  <tbody>\n",
       "    <tr>\n",
       "      <th>0</th>\n",
       "      <td>0</td>\n",
       "      <td>DllList</td>\n",
       "      <td>DLL Load: Process 400 ServerManager. Loaded &lt;v...</td>\n",
       "      <td>1762-05-05 04:53:46.000000</td>\n",
       "      <td>NaN</td>\n",
       "      <td>NaN</td>\n",
       "      <td>NaN</td>\n",
       "    </tr>\n",
       "    <tr>\n",
       "      <th>1</th>\n",
       "      <td>0</td>\n",
       "      <td>SymlinkScan</td>\n",
       "      <td>Symlink: DosDevices -&gt; \\??</td>\n",
       "      <td>2020-09-19 01:22:34.000000</td>\n",
       "      <td>NaN</td>\n",
       "      <td>NaN</td>\n",
       "      <td>NaN</td>\n",
       "    </tr>\n",
       "    <tr>\n",
       "      <th>2</th>\n",
       "      <td>0</td>\n",
       "      <td>SymlinkScan</td>\n",
       "      <td>Symlink: Global -&gt; \\GLOBAL??</td>\n",
       "      <td>2020-09-19 01:22:34.000000</td>\n",
       "      <td>NaN</td>\n",
       "      <td>NaN</td>\n",
       "      <td>NaN</td>\n",
       "    </tr>\n",
       "    <tr>\n",
       "      <th>3</th>\n",
       "      <td>0</td>\n",
       "      <td>SymlinkScan</td>\n",
       "      <td>Symlink: SystemRoot -&gt; \\Device\\BootDevice\\Windows</td>\n",
       "      <td>2020-09-19 01:22:34.000000</td>\n",
       "      <td>NaN</td>\n",
       "      <td>NaN</td>\n",
       "      <td>NaN</td>\n",
       "    </tr>\n",
       "    <tr>\n",
       "      <th>4</th>\n",
       "      <td>0</td>\n",
       "      <td>SymlinkScan</td>\n",
       "      <td>Symlink: RESOURCE_HUB -&gt; \\Device\\RESOURCE_HUB</td>\n",
       "      <td>2020-09-19 01:22:34.000000</td>\n",
       "      <td>NaN</td>\n",
       "      <td>NaN</td>\n",
       "      <td>NaN</td>\n",
       "    </tr>\n",
       "  </tbody>\n",
       "</table>\n",
       "</div>"
      ],
      "text/plain": [
       "   TreeDepth       Plugin                                        Description  \\\n",
       "0          0      DllList  DLL Load: Process 400 ServerManager. Loaded <v...   \n",
       "1          0  SymlinkScan                         Symlink: DosDevices -> \\??   \n",
       "2          0  SymlinkScan                       Symlink: Global -> \\GLOBAL??   \n",
       "3          0  SymlinkScan  Symlink: SystemRoot -> \\Device\\BootDevice\\Windows   \n",
       "4          0  SymlinkScan      Symlink: RESOURCE_HUB -> \\Device\\RESOURCE_HUB   \n",
       "\n",
       "                  Created Date Modified Date  Accessed Date  Changed Date  \n",
       "0  1762-05-05 04:53:46.000000            NaN            NaN           NaN  \n",
       "1  2020-09-19 01:22:34.000000            NaN            NaN           NaN  \n",
       "2  2020-09-19 01:22:34.000000            NaN            NaN           NaN  \n",
       "3  2020-09-19 01:22:34.000000            NaN            NaN           NaN  \n",
       "4  2020-09-19 01:22:34.000000            NaN            NaN           NaN  "
      ]
     },
     "execution_count": 6,
     "metadata": {},
     "output_type": "execute_result"
    }
   ],
   "source": [
    "df.head()"
   ]
  },
  {
   "cell_type": "markdown",
   "metadata": {},
   "source": [
    "Let's look at the info for the dataframe."
   ]
  },
  {
   "cell_type": "code",
   "execution_count": 7,
   "metadata": {},
   "outputs": [
    {
     "name": "stdout",
     "output_type": "stream",
     "text": [
      "<class 'pandas.core.frame.DataFrame'>\n",
      "RangeIndex: 21923 entries, 0 to 21922\n",
      "Data columns (total 7 columns):\n",
      " #   Column         Non-Null Count  Dtype  \n",
      "---  ------         --------------  -----  \n",
      " 0   TreeDepth      21923 non-null  int64  \n",
      " 1   Plugin         21923 non-null  object \n",
      " 2   Description    21923 non-null  object \n",
      " 3   Created Date   21923 non-null  object \n",
      " 4   Modified Date  3 non-null      object \n",
      " 5   Accessed Date  0 non-null      float64\n",
      " 6   Changed Date   0 non-null      float64\n",
      "dtypes: float64(2), int64(1), object(4)\n",
      "memory usage: 1.2+ MB\n"
     ]
    }
   ],
   "source": [
    "df.info()"
   ]
  },
  {
   "cell_type": "markdown",
   "metadata": {},
   "source": [
    "It looks like every entry has a created date, but none of them have an Access Date or a Changed Date and only 3 have a modified date. Let's use Creation Date as a first pass to try and get this data into timesketch.\n",
    "\n",
    "The first thing is to create a datetime field that contains the timestamp. We will use the built-in conversion in pandas (stole this from googlers)\n"
   ]
  },
  {
   "cell_type": "code",
   "execution_count": 65,
   "metadata": {},
   "outputs": [
    {
     "data": {
      "text/plain": [
       "Timestamp('2020-09-19 01:22:36')"
      ]
     },
     "execution_count": 65,
     "metadata": {},
     "output_type": "execute_result"
    }
   ],
   "source": [
    "df['datetime'] = pd.to_datetime(df['Created Date'])\n",
    "df['datetime'][55]"
   ]
  },
  {
   "cell_type": "markdown",
   "metadata": {},
   "source": [
    "The next thing is to add few fields that Timesketch expects:"
   ]
  },
  {
   "cell_type": "code",
   "execution_count": 68,
   "metadata": {},
   "outputs": [
    {
     "data": {
      "text/html": [
       "<div>\n",
       "<style scoped>\n",
       "    .dataframe tbody tr th:only-of-type {\n",
       "        vertical-align: middle;\n",
       "    }\n",
       "\n",
       "    .dataframe tbody tr th {\n",
       "        vertical-align: top;\n",
       "    }\n",
       "\n",
       "    .dataframe thead th {\n",
       "        text-align: right;\n",
       "    }\n",
       "</style>\n",
       "<table border=\"1\" class=\"dataframe\">\n",
       "  <thead>\n",
       "    <tr style=\"text-align: right;\">\n",
       "      <th></th>\n",
       "      <th>TreeDepth</th>\n",
       "      <th>Plugin</th>\n",
       "      <th>Description</th>\n",
       "      <th>Created Date</th>\n",
       "      <th>Modified Date</th>\n",
       "      <th>Accessed Date</th>\n",
       "      <th>Changed Date</th>\n",
       "      <th>datetime</th>\n",
       "      <th>data_type</th>\n",
       "      <th>timestamp_desc</th>\n",
       "      <th>message</th>\n",
       "    </tr>\n",
       "  </thead>\n",
       "  <tbody>\n",
       "    <tr>\n",
       "      <th>0</th>\n",
       "      <td>0</td>\n",
       "      <td>DllList</td>\n",
       "      <td>DLL Load: Process 400 ServerManager. Loaded &lt;v...</td>\n",
       "      <td>1762-05-05 04:53:46.000000</td>\n",
       "      <td>NaN</td>\n",
       "      <td>NaN</td>\n",
       "      <td>NaN</td>\n",
       "      <td>1762-05-05 04:53:46</td>\n",
       "      <td>volatility3:timeline:Timeliner:record</td>\n",
       "      <td>Created Date</td>\n",
       "      <td>Volatility3: [DllList - DLL Load: Process 400 ...</td>\n",
       "    </tr>\n",
       "    <tr>\n",
       "      <th>1</th>\n",
       "      <td>0</td>\n",
       "      <td>SymlinkScan</td>\n",
       "      <td>Symlink: DosDevices -&gt; \\??</td>\n",
       "      <td>2020-09-19 01:22:34.000000</td>\n",
       "      <td>NaN</td>\n",
       "      <td>NaN</td>\n",
       "      <td>NaN</td>\n",
       "      <td>2020-09-19 01:22:34</td>\n",
       "      <td>volatility3:timeline:Timeliner:record</td>\n",
       "      <td>Created Date</td>\n",
       "      <td>Volatility3: [SymlinkScan - Symlink: DosDevice...</td>\n",
       "    </tr>\n",
       "    <tr>\n",
       "      <th>2</th>\n",
       "      <td>0</td>\n",
       "      <td>SymlinkScan</td>\n",
       "      <td>Symlink: Global -&gt; \\GLOBAL??</td>\n",
       "      <td>2020-09-19 01:22:34.000000</td>\n",
       "      <td>NaN</td>\n",
       "      <td>NaN</td>\n",
       "      <td>NaN</td>\n",
       "      <td>2020-09-19 01:22:34</td>\n",
       "      <td>volatility3:timeline:Timeliner:record</td>\n",
       "      <td>Created Date</td>\n",
       "      <td>Volatility3: [SymlinkScan - Symlink: Global -&gt;...</td>\n",
       "    </tr>\n",
       "  </tbody>\n",
       "</table>\n",
       "</div>"
      ],
      "text/plain": [
       "   TreeDepth       Plugin                                        Description  \\\n",
       "0          0      DllList  DLL Load: Process 400 ServerManager. Loaded <v...   \n",
       "1          0  SymlinkScan                         Symlink: DosDevices -> \\??   \n",
       "2          0  SymlinkScan                       Symlink: Global -> \\GLOBAL??   \n",
       "\n",
       "                  Created Date Modified Date  Accessed Date  Changed Date  \\\n",
       "0  1762-05-05 04:53:46.000000            NaN            NaN           NaN   \n",
       "1  2020-09-19 01:22:34.000000            NaN            NaN           NaN   \n",
       "2  2020-09-19 01:22:34.000000            NaN            NaN           NaN   \n",
       "\n",
       "             datetime                              data_type timestamp_desc  \\\n",
       "0 1762-05-05 04:53:46  volatility3:timeline:Timeliner:record   Created Date   \n",
       "1 2020-09-19 01:22:34  volatility3:timeline:Timeliner:record   Created Date   \n",
       "2 2020-09-19 01:22:34  volatility3:timeline:Timeliner:record   Created Date   \n",
       "\n",
       "                                             message  \n",
       "0  Volatility3: [DllList - DLL Load: Process 400 ...  \n",
       "1  Volatility3: [SymlinkScan - Symlink: DosDevice...  \n",
       "2  Volatility3: [SymlinkScan - Symlink: Global ->...  "
      ]
     },
     "execution_count": 68,
     "metadata": {},
     "output_type": "execute_result"
    }
   ],
   "source": [
    "df['data_type'] = 'volatility3:timeline:Timeliner:record'\n",
    "df['timestamp_desc'] = 'Created Date'\n",
    "df['message'] = 'Volatility3: [' + df['Plugin'] + ' - ' + df['Description'] + ']'\n",
    "\n",
    "df.head(3)"
   ]
  },
  {
   "cell_type": "code",
   "execution_count": null,
   "metadata": {},
   "outputs": [],
   "source": []
  },
  {
   "cell_type": "markdown",
   "metadata": {},
   "source": [
    "\n",
    "\n",
    "Get a copy of the timesketch client. This will prompt for info about where to find timesketch"
   ]
  },
  {
   "cell_type": "code",
   "execution_count": 126,
   "metadata": {},
   "outputs": [
    {
     "name": "stdout",
     "output_type": "stream",
     "text": [
      "Want to change the value for \"host_uri\" [http://ec2-18-191-32-121.us-east-2.compute.amazonaws.com/] [y/N]: N\n",
      "Want to change the value for \"client_id\" [] [y/N]: N\n",
      "Want to change the value for \"client_secret\" [] [y/N]: N\n",
      "Want to change the value for \"auth_mode\" [userpass] [y/N]: N\n",
      "Want to change credentials? [y/N]: N\n"
     ]
    }
   ],
   "source": [
    "ts_client = config.get_client(confirm_choices=True)\n"
   ]
  },
  {
   "cell_type": "markdown",
   "metadata": {},
   "source": [
    "List sketches"
   ]
  },
  {
   "cell_type": "code",
   "execution_count": 72,
   "metadata": {},
   "outputs": [
    {
     "name": "stdout",
     "output_type": "stream",
     "text": [
      "sketch id:1 sketch name:szechuan sketch description:\n"
     ]
    }
   ],
   "source": [
    "for sketch in ts_client.list_sketches():\n",
    "    print(f\"sketch id:{sketch.id} sketch name:{sketch.name} sketch description:{sketch.description}\")"
   ]
  },
  {
   "cell_type": "code",
   "execution_count": 73,
   "metadata": {},
   "outputs": [],
   "source": [
    "# @markdown This needs to be changed to reflect the correct sketch.\n",
    "\n",
    "SKETCH_ID = 1 # @param {type: \"integer\"}"
   ]
  },
  {
   "cell_type": "markdown",
   "metadata": {},
   "source": [
    "We will use the importer client to import the data as a data frame, for that we need to setup an import streamer:"
   ]
  },
  {
   "cell_type": "code",
   "execution_count": 74,
   "metadata": {},
   "outputs": [],
   "source": [
    "sketch = ts_client.get_sketch(SKETCH_ID)\n",
    "import_helper = helper.ImportHelper() \n",
    "\n",
    "with importer.ImportStreamer() as streamer:\n",
    "  streamer.set_sketch(sketch)\n",
    "  streamer.set_config_helper(import_helper) \n",
    "\n",
    "  streamer.set_timeline_name('volatility3_server_citadeldc01_memory')\n",
    "\n",
    "  streamer.add_data_frame(df)"
   ]
  },
  {
   "cell_type": "markdown",
   "metadata": {},
   "source": [
    "Let's add the other memory timeline that we have."
   ]
  },
  {
   "cell_type": "code",
   "execution_count": 78,
   "metadata": {},
   "outputs": [
    {
     "name": "stdout",
     "output_type": "stream",
     "text": [
      "/home/ubuntu/jupyter/cases/stolen_szechuan_sauce/DESKTOP-SDN1RPT_mem_timeline.csv\n",
      "/home/ubuntu/jupyter/cases/stolen_szechuan_sauce/DESKTOP-SDN1RPT.mem\n"
     ]
    }
   ],
   "source": [
    "PATH_TO_FOLDER = '/home/ubuntu/jupyter/cases/stolen_szechuan_sauce/'\n",
    "MEMORY_IMAGE = 'DESKTOP-SDN1RPT.mem'\n",
    "OUTPUT_FILE = 'DESKTOP-SDN1RPT_mem_timeline.csv'\n",
    "PATH_TO_MEMORY_IMAGE = os.path.join(PATH_TO_FOLDER, MEMORY_IMAGE)\n",
    "PATH_TO_CSV = os.path.join(PATH_TO_FOLDER, OUTPUT_FILE)\n",
    "print(PATH_TO_CSV)\n",
    "print(PATH_TO_MEMORY_IMAGE)"
   ]
  },
  {
   "cell_type": "markdown",
   "metadata": {},
   "source": [
    "This seems to run faster when not run in jupyter\n",
    "\n",
    "!/home/ubuntu/jupyter/volatility3/vol.py -r csv -f /home/ubuntu/jupyter/cases/stolen_szechuan_sauce/DESKTOP-SDN1RPT.mem timeliner.Timeliner > /home/ubuntu/jupyter/cases/stolen_szechuan_sauce/DESKTOP-SDN1RPT_mem_timeline.csv"
   ]
  },
  {
   "cell_type": "code",
   "execution_count": 115,
   "metadata": {},
   "outputs": [
    {
     "name": "stdout",
     "output_type": "stream",
     "text": [
      "(432, 7)\n"
     ]
    }
   ],
   "source": [
    "df = None\n",
    "with codecs.open(PATH_TO_CSV, 'r', encoding='utf-8', errors='replace') as fh:\n",
    "  df = pd.read_csv(fh, error_bad_lines=False)\n",
    "\n",
    "print(df.shape)"
   ]
  },
  {
   "cell_type": "code",
   "execution_count": 116,
   "metadata": {},
   "outputs": [
    {
     "data": {
      "text/html": [
       "<div>\n",
       "<style scoped>\n",
       "    .dataframe tbody tr th:only-of-type {\n",
       "        vertical-align: middle;\n",
       "    }\n",
       "\n",
       "    .dataframe tbody tr th {\n",
       "        vertical-align: top;\n",
       "    }\n",
       "\n",
       "    .dataframe thead th {\n",
       "        text-align: right;\n",
       "    }\n",
       "</style>\n",
       "<table border=\"1\" class=\"dataframe\">\n",
       "  <thead>\n",
       "    <tr style=\"text-align: right;\">\n",
       "      <th></th>\n",
       "      <th>TreeDepth</th>\n",
       "      <th>Plugin</th>\n",
       "      <th>Description</th>\n",
       "      <th>Created Date</th>\n",
       "      <th>Modified Date</th>\n",
       "      <th>Accessed Date</th>\n",
       "      <th>Changed Date</th>\n",
       "    </tr>\n",
       "  </thead>\n",
       "  <tbody>\n",
       "    <tr>\n",
       "      <th>0</th>\n",
       "      <td>0</td>\n",
       "      <td>PsList</td>\n",
       "      <td>Process: 4096  (209519118647424)</td>\n",
       "      <td>1601-01-01 00:00:35.000000</td>\n",
       "      <td>1601-01-01 00:02:34.000000</td>\n",
       "      <td>NaN</td>\n",
       "      <td>NaN</td>\n",
       "    </tr>\n",
       "    <tr>\n",
       "      <th>1</th>\n",
       "      <td>0</td>\n",
       "      <td>PsList</td>\n",
       "      <td>Process: 4096  (209519118647424)</td>\n",
       "      <td>1601-01-01 00:00:35.000000</td>\n",
       "      <td>NaN</td>\n",
       "      <td>NaN</td>\n",
       "      <td>NaN</td>\n",
       "    </tr>\n",
       "    <tr>\n",
       "      <th>2</th>\n",
       "      <td>0</td>\n",
       "      <td>PsList</td>\n",
       "      <td>Process: 4096  (209519074865280)</td>\n",
       "      <td>1601-01-01 00:00:53.000000</td>\n",
       "      <td>1601-01-01 00:01:25.000000</td>\n",
       "      <td>NaN</td>\n",
       "      <td>NaN</td>\n",
       "    </tr>\n",
       "    <tr>\n",
       "      <th>3</th>\n",
       "      <td>0</td>\n",
       "      <td>PsList</td>\n",
       "      <td>Process: 4096  (209519074865280)</td>\n",
       "      <td>1601-01-01 00:00:53.000000</td>\n",
       "      <td>NaN</td>\n",
       "      <td>NaN</td>\n",
       "      <td>NaN</td>\n",
       "    </tr>\n",
       "    <tr>\n",
       "      <th>4</th>\n",
       "      <td>0</td>\n",
       "      <td>PsList</td>\n",
       "      <td>Process: 92 Registry (209518991138944)</td>\n",
       "      <td>2020-09-19 01:24:04.000000</td>\n",
       "      <td>NaN</td>\n",
       "      <td>NaN</td>\n",
       "      <td>NaN</td>\n",
       "    </tr>\n",
       "  </tbody>\n",
       "</table>\n",
       "</div>"
      ],
      "text/plain": [
       "   TreeDepth  Plugin                             Description  \\\n",
       "0          0  PsList        Process: 4096  (209519118647424)   \n",
       "1          0  PsList        Process: 4096  (209519118647424)   \n",
       "2          0  PsList        Process: 4096  (209519074865280)   \n",
       "3          0  PsList        Process: 4096  (209519074865280)   \n",
       "4          0  PsList  Process: 92 Registry (209518991138944)   \n",
       "\n",
       "                  Created Date                Modified Date  Accessed Date  \\\n",
       "0  1601-01-01 00:00:35.000000   1601-01-01 00:02:34.000000             NaN   \n",
       "1  1601-01-01 00:00:35.000000                           NaN            NaN   \n",
       "2  1601-01-01 00:00:53.000000   1601-01-01 00:01:25.000000             NaN   \n",
       "3  1601-01-01 00:00:53.000000                           NaN            NaN   \n",
       "4  2020-09-19 01:24:04.000000                           NaN            NaN   \n",
       "\n",
       "   Changed Date  \n",
       "0           NaN  \n",
       "1           NaN  \n",
       "2           NaN  \n",
       "3           NaN  \n",
       "4           NaN  "
      ]
     },
     "execution_count": 116,
     "metadata": {},
     "output_type": "execute_result"
    }
   ],
   "source": [
    "df.head()"
   ]
  },
  {
   "cell_type": "code",
   "execution_count": 117,
   "metadata": {},
   "outputs": [
    {
     "name": "stdout",
     "output_type": "stream",
     "text": [
      "<class 'pandas.core.frame.DataFrame'>\n",
      "RangeIndex: 432 entries, 0 to 431\n",
      "Data columns (total 7 columns):\n",
      " #   Column         Non-Null Count  Dtype  \n",
      "---  ------         --------------  -----  \n",
      " 0   TreeDepth      432 non-null    int64  \n",
      " 1   Plugin         432 non-null    object \n",
      " 2   Description    432 non-null    object \n",
      " 3   Created Date   432 non-null    object \n",
      " 4   Modified Date  13 non-null     object \n",
      " 5   Accessed Date  0 non-null      float64\n",
      " 6   Changed Date   0 non-null      float64\n",
      "dtypes: float64(2), int64(1), object(4)\n",
      "memory usage: 23.8+ KB\n"
     ]
    }
   ],
   "source": [
    "df.info()"
   ]
  },
  {
   "cell_type": "code",
   "execution_count": 83,
   "metadata": {},
   "outputs": [
    {
     "ename": "OutOfBoundsDatetime",
     "evalue": "Out of bounds nanosecond timestamp: 1601-01-01 00:00:35",
     "output_type": "error",
     "traceback": [
      "\u001b[0;31m---------------------------------------------------------------------------\u001b[0m",
      "\u001b[0;31mTypeError\u001b[0m                                 Traceback (most recent call last)",
      "\u001b[0;32m~/jupyter/jupyter_env/lib/python3.8/site-packages/pandas/core/arrays/datetimes.py\u001b[0m in \u001b[0;36mobjects_to_datetime64ns\u001b[0;34m(data, dayfirst, yearfirst, utc, errors, require_iso8601, allow_object)\u001b[0m\n\u001b[1;32m   2053\u001b[0m         \u001b[0;32mtry\u001b[0m\u001b[0;34m:\u001b[0m\u001b[0;34m\u001b[0m\u001b[0;34m\u001b[0m\u001b[0m\n\u001b[0;32m-> 2054\u001b[0;31m             \u001b[0mvalues\u001b[0m\u001b[0;34m,\u001b[0m \u001b[0mtz_parsed\u001b[0m \u001b[0;34m=\u001b[0m \u001b[0mconversion\u001b[0m\u001b[0;34m.\u001b[0m\u001b[0mdatetime_to_datetime64\u001b[0m\u001b[0;34m(\u001b[0m\u001b[0mdata\u001b[0m\u001b[0;34m)\u001b[0m\u001b[0;34m\u001b[0m\u001b[0;34m\u001b[0m\u001b[0m\n\u001b[0m\u001b[1;32m   2055\u001b[0m             \u001b[0;31m# If tzaware, these values represent unix timestamps, so we\u001b[0m\u001b[0;34m\u001b[0m\u001b[0;34m\u001b[0m\u001b[0;34m\u001b[0m\u001b[0m\n",
      "\u001b[0;32mpandas/_libs/tslibs/conversion.pyx\u001b[0m in \u001b[0;36mpandas._libs.tslibs.conversion.datetime_to_datetime64\u001b[0;34m()\u001b[0m\n",
      "\u001b[0;31mTypeError\u001b[0m: Unrecognized value type: <class 'str'>",
      "\nDuring handling of the above exception, another exception occurred:\n",
      "\u001b[0;31mOutOfBoundsDatetime\u001b[0m                       Traceback (most recent call last)",
      "\u001b[0;32m<ipython-input-83-00fd3057762a>\u001b[0m in \u001b[0;36m<module>\u001b[0;34m\u001b[0m\n\u001b[0;32m----> 1\u001b[0;31m \u001b[0mdf\u001b[0m\u001b[0;34m[\u001b[0m\u001b[0;34m'datetime'\u001b[0m\u001b[0;34m]\u001b[0m \u001b[0;34m=\u001b[0m \u001b[0mpd\u001b[0m\u001b[0;34m.\u001b[0m\u001b[0mto_datetime\u001b[0m\u001b[0;34m(\u001b[0m\u001b[0mdf\u001b[0m\u001b[0;34m[\u001b[0m\u001b[0;34m'Created Date'\u001b[0m\u001b[0;34m]\u001b[0m\u001b[0;34m)\u001b[0m\u001b[0;34m\u001b[0m\u001b[0;34m\u001b[0m\u001b[0m\n\u001b[0m",
      "\u001b[0;32m~/jupyter/jupyter_env/lib/python3.8/site-packages/pandas/core/tools/datetimes.py\u001b[0m in \u001b[0;36mto_datetime\u001b[0;34m(arg, errors, dayfirst, yearfirst, utc, format, exact, unit, infer_datetime_format, origin, cache)\u001b[0m\n\u001b[1;32m    797\u001b[0m                 \u001b[0mresult\u001b[0m \u001b[0;34m=\u001b[0m \u001b[0mresult\u001b[0m\u001b[0;34m.\u001b[0m\u001b[0mtz_localize\u001b[0m\u001b[0;34m(\u001b[0m\u001b[0mtz\u001b[0m\u001b[0;34m)\u001b[0m\u001b[0;34m\u001b[0m\u001b[0;34m\u001b[0m\u001b[0m\n\u001b[1;32m    798\u001b[0m     \u001b[0;32melif\u001b[0m \u001b[0misinstance\u001b[0m\u001b[0;34m(\u001b[0m\u001b[0marg\u001b[0m\u001b[0;34m,\u001b[0m \u001b[0mABCSeries\u001b[0m\u001b[0;34m)\u001b[0m\u001b[0;34m:\u001b[0m\u001b[0;34m\u001b[0m\u001b[0;34m\u001b[0m\u001b[0m\n\u001b[0;32m--> 799\u001b[0;31m         \u001b[0mcache_array\u001b[0m \u001b[0;34m=\u001b[0m \u001b[0m_maybe_cache\u001b[0m\u001b[0;34m(\u001b[0m\u001b[0marg\u001b[0m\u001b[0;34m,\u001b[0m \u001b[0mformat\u001b[0m\u001b[0;34m,\u001b[0m \u001b[0mcache\u001b[0m\u001b[0;34m,\u001b[0m \u001b[0mconvert_listlike\u001b[0m\u001b[0;34m)\u001b[0m\u001b[0;34m\u001b[0m\u001b[0;34m\u001b[0m\u001b[0m\n\u001b[0m\u001b[1;32m    800\u001b[0m         \u001b[0;32mif\u001b[0m \u001b[0;32mnot\u001b[0m \u001b[0mcache_array\u001b[0m\u001b[0;34m.\u001b[0m\u001b[0mempty\u001b[0m\u001b[0;34m:\u001b[0m\u001b[0;34m\u001b[0m\u001b[0;34m\u001b[0m\u001b[0m\n\u001b[1;32m    801\u001b[0m             \u001b[0mresult\u001b[0m \u001b[0;34m=\u001b[0m \u001b[0marg\u001b[0m\u001b[0;34m.\u001b[0m\u001b[0mmap\u001b[0m\u001b[0;34m(\u001b[0m\u001b[0mcache_array\u001b[0m\u001b[0;34m)\u001b[0m\u001b[0;34m\u001b[0m\u001b[0;34m\u001b[0m\u001b[0m\n",
      "\u001b[0;32m~/jupyter/jupyter_env/lib/python3.8/site-packages/pandas/core/tools/datetimes.py\u001b[0m in \u001b[0;36m_maybe_cache\u001b[0;34m(arg, format, cache, convert_listlike)\u001b[0m\n\u001b[1;32m    168\u001b[0m         \u001b[0munique_dates\u001b[0m \u001b[0;34m=\u001b[0m \u001b[0munique\u001b[0m\u001b[0;34m(\u001b[0m\u001b[0marg\u001b[0m\u001b[0;34m)\u001b[0m\u001b[0;34m\u001b[0m\u001b[0;34m\u001b[0m\u001b[0m\n\u001b[1;32m    169\u001b[0m         \u001b[0;32mif\u001b[0m \u001b[0mlen\u001b[0m\u001b[0;34m(\u001b[0m\u001b[0munique_dates\u001b[0m\u001b[0;34m)\u001b[0m \u001b[0;34m<\u001b[0m \u001b[0mlen\u001b[0m\u001b[0;34m(\u001b[0m\u001b[0marg\u001b[0m\u001b[0;34m)\u001b[0m\u001b[0;34m:\u001b[0m\u001b[0;34m\u001b[0m\u001b[0;34m\u001b[0m\u001b[0m\n\u001b[0;32m--> 170\u001b[0;31m             \u001b[0mcache_dates\u001b[0m \u001b[0;34m=\u001b[0m \u001b[0mconvert_listlike\u001b[0m\u001b[0;34m(\u001b[0m\u001b[0munique_dates\u001b[0m\u001b[0;34m,\u001b[0m \u001b[0mformat\u001b[0m\u001b[0;34m)\u001b[0m\u001b[0;34m\u001b[0m\u001b[0;34m\u001b[0m\u001b[0m\n\u001b[0m\u001b[1;32m    171\u001b[0m             \u001b[0mcache_array\u001b[0m \u001b[0;34m=\u001b[0m \u001b[0mSeries\u001b[0m\u001b[0;34m(\u001b[0m\u001b[0mcache_dates\u001b[0m\u001b[0;34m,\u001b[0m \u001b[0mindex\u001b[0m\u001b[0;34m=\u001b[0m\u001b[0munique_dates\u001b[0m\u001b[0;34m)\u001b[0m\u001b[0;34m\u001b[0m\u001b[0;34m\u001b[0m\u001b[0m\n\u001b[1;32m    172\u001b[0m     \u001b[0;32mreturn\u001b[0m \u001b[0mcache_array\u001b[0m\u001b[0;34m\u001b[0m\u001b[0;34m\u001b[0m\u001b[0m\n",
      "\u001b[0;32m~/jupyter/jupyter_env/lib/python3.8/site-packages/pandas/core/tools/datetimes.py\u001b[0m in \u001b[0;36m_convert_listlike_datetimes\u001b[0;34m(arg, format, name, tz, unit, errors, infer_datetime_format, dayfirst, yearfirst, exact)\u001b[0m\n\u001b[1;32m    457\u001b[0m         \u001b[0;32massert\u001b[0m \u001b[0mformat\u001b[0m \u001b[0;32mis\u001b[0m \u001b[0;32mNone\u001b[0m \u001b[0;32mor\u001b[0m \u001b[0minfer_datetime_format\u001b[0m\u001b[0;34m\u001b[0m\u001b[0;34m\u001b[0m\u001b[0m\n\u001b[1;32m    458\u001b[0m         \u001b[0mutc\u001b[0m \u001b[0;34m=\u001b[0m \u001b[0mtz\u001b[0m \u001b[0;34m==\u001b[0m \u001b[0;34m\"utc\"\u001b[0m\u001b[0;34m\u001b[0m\u001b[0;34m\u001b[0m\u001b[0m\n\u001b[0;32m--> 459\u001b[0;31m         result, tz_parsed = objects_to_datetime64ns(\n\u001b[0m\u001b[1;32m    460\u001b[0m             \u001b[0marg\u001b[0m\u001b[0;34m,\u001b[0m\u001b[0;34m\u001b[0m\u001b[0;34m\u001b[0m\u001b[0m\n\u001b[1;32m    461\u001b[0m             \u001b[0mdayfirst\u001b[0m\u001b[0;34m=\u001b[0m\u001b[0mdayfirst\u001b[0m\u001b[0;34m,\u001b[0m\u001b[0;34m\u001b[0m\u001b[0;34m\u001b[0m\u001b[0m\n",
      "\u001b[0;32m~/jupyter/jupyter_env/lib/python3.8/site-packages/pandas/core/arrays/datetimes.py\u001b[0m in \u001b[0;36mobjects_to_datetime64ns\u001b[0;34m(data, dayfirst, yearfirst, utc, errors, require_iso8601, allow_object)\u001b[0m\n\u001b[1;32m   2057\u001b[0m             \u001b[0;32mreturn\u001b[0m \u001b[0mvalues\u001b[0m\u001b[0;34m.\u001b[0m\u001b[0mview\u001b[0m\u001b[0;34m(\u001b[0m\u001b[0;34m\"i8\"\u001b[0m\u001b[0;34m)\u001b[0m\u001b[0;34m,\u001b[0m \u001b[0mtz_parsed\u001b[0m\u001b[0;34m\u001b[0m\u001b[0;34m\u001b[0m\u001b[0m\n\u001b[1;32m   2058\u001b[0m         \u001b[0;32mexcept\u001b[0m \u001b[0;34m(\u001b[0m\u001b[0mValueError\u001b[0m\u001b[0;34m,\u001b[0m \u001b[0mTypeError\u001b[0m\u001b[0;34m)\u001b[0m\u001b[0;34m:\u001b[0m\u001b[0;34m\u001b[0m\u001b[0;34m\u001b[0m\u001b[0m\n\u001b[0;32m-> 2059\u001b[0;31m             \u001b[0;32mraise\u001b[0m \u001b[0me\u001b[0m\u001b[0;34m\u001b[0m\u001b[0;34m\u001b[0m\u001b[0m\n\u001b[0m\u001b[1;32m   2060\u001b[0m \u001b[0;34m\u001b[0m\u001b[0m\n\u001b[1;32m   2061\u001b[0m     \u001b[0;32mif\u001b[0m \u001b[0mtz_parsed\u001b[0m \u001b[0;32mis\u001b[0m \u001b[0;32mnot\u001b[0m \u001b[0;32mNone\u001b[0m\u001b[0;34m:\u001b[0m\u001b[0;34m\u001b[0m\u001b[0;34m\u001b[0m\u001b[0m\n",
      "\u001b[0;32m~/jupyter/jupyter_env/lib/python3.8/site-packages/pandas/core/arrays/datetimes.py\u001b[0m in \u001b[0;36mobjects_to_datetime64ns\u001b[0;34m(data, dayfirst, yearfirst, utc, errors, require_iso8601, allow_object)\u001b[0m\n\u001b[1;32m   2042\u001b[0m \u001b[0;34m\u001b[0m\u001b[0m\n\u001b[1;32m   2043\u001b[0m     \u001b[0;32mtry\u001b[0m\u001b[0;34m:\u001b[0m\u001b[0;34m\u001b[0m\u001b[0;34m\u001b[0m\u001b[0m\n\u001b[0;32m-> 2044\u001b[0;31m         result, tz_parsed = tslib.array_to_datetime(\n\u001b[0m\u001b[1;32m   2045\u001b[0m             \u001b[0mdata\u001b[0m\u001b[0;34m,\u001b[0m\u001b[0;34m\u001b[0m\u001b[0;34m\u001b[0m\u001b[0m\n\u001b[1;32m   2046\u001b[0m             \u001b[0merrors\u001b[0m\u001b[0;34m=\u001b[0m\u001b[0merrors\u001b[0m\u001b[0;34m,\u001b[0m\u001b[0;34m\u001b[0m\u001b[0;34m\u001b[0m\u001b[0m\n",
      "\u001b[0;32mpandas/_libs/tslib.pyx\u001b[0m in \u001b[0;36mpandas._libs.tslib.array_to_datetime\u001b[0;34m()\u001b[0m\n",
      "\u001b[0;32mpandas/_libs/tslib.pyx\u001b[0m in \u001b[0;36mpandas._libs.tslib.array_to_datetime\u001b[0;34m()\u001b[0m\n",
      "\u001b[0;32mpandas/_libs/tslib.pyx\u001b[0m in \u001b[0;36mpandas._libs.tslib.array_to_datetime\u001b[0;34m()\u001b[0m\n",
      "\u001b[0;32mpandas/_libs/tslib.pyx\u001b[0m in \u001b[0;36mpandas._libs.tslib.array_to_datetime\u001b[0;34m()\u001b[0m\n",
      "\u001b[0;32mpandas/_libs/tslibs/np_datetime.pyx\u001b[0m in \u001b[0;36mpandas._libs.tslibs.np_datetime.check_dts_bounds\u001b[0;34m()\u001b[0m\n",
      "\u001b[0;31mOutOfBoundsDatetime\u001b[0m: Out of bounds nanosecond timestamp: 1601-01-01 00:00:35"
     ]
    }
   ],
   "source": [
    "df['datetime'] = pd.to_datetime(df['Created Date'])\n"
   ]
  },
  {
   "cell_type": "code",
   "execution_count": 87,
   "metadata": {
    "scrolled": true
   },
   "outputs": [
    {
     "data": {
      "text/html": [
       "<div>\n",
       "<style scoped>\n",
       "    .dataframe tbody tr th:only-of-type {\n",
       "        vertical-align: middle;\n",
       "    }\n",
       "\n",
       "    .dataframe tbody tr th {\n",
       "        vertical-align: top;\n",
       "    }\n",
       "\n",
       "    .dataframe thead th {\n",
       "        text-align: right;\n",
       "    }\n",
       "</style>\n",
       "<table border=\"1\" class=\"dataframe\">\n",
       "  <thead>\n",
       "    <tr style=\"text-align: right;\">\n",
       "      <th></th>\n",
       "      <th>TreeDepth</th>\n",
       "      <th>Plugin</th>\n",
       "      <th>Description</th>\n",
       "      <th>Created Date</th>\n",
       "      <th>Modified Date</th>\n",
       "      <th>Accessed Date</th>\n",
       "      <th>Changed Date</th>\n",
       "    </tr>\n",
       "  </thead>\n",
       "  <tbody>\n",
       "    <tr>\n",
       "      <th>0</th>\n",
       "      <td>0</td>\n",
       "      <td>PsList</td>\n",
       "      <td>Process: 4096  (209519118647424)</td>\n",
       "      <td>1601-01-01 00:00:35.000000</td>\n",
       "      <td>1601-01-01 00:02:34.000000</td>\n",
       "      <td>NaN</td>\n",
       "      <td>NaN</td>\n",
       "    </tr>\n",
       "    <tr>\n",
       "      <th>1</th>\n",
       "      <td>0</td>\n",
       "      <td>PsList</td>\n",
       "      <td>Process: 4096  (209519118647424)</td>\n",
       "      <td>1601-01-01 00:00:35.000000</td>\n",
       "      <td>NaN</td>\n",
       "      <td>NaN</td>\n",
       "      <td>NaN</td>\n",
       "    </tr>\n",
       "    <tr>\n",
       "      <th>2</th>\n",
       "      <td>0</td>\n",
       "      <td>PsList</td>\n",
       "      <td>Process: 4096  (209519074865280)</td>\n",
       "      <td>1601-01-01 00:00:53.000000</td>\n",
       "      <td>1601-01-01 00:01:25.000000</td>\n",
       "      <td>NaN</td>\n",
       "      <td>NaN</td>\n",
       "    </tr>\n",
       "    <tr>\n",
       "      <th>3</th>\n",
       "      <td>0</td>\n",
       "      <td>PsList</td>\n",
       "      <td>Process: 4096  (209519074865280)</td>\n",
       "      <td>1601-01-01 00:00:53.000000</td>\n",
       "      <td>NaN</td>\n",
       "      <td>NaN</td>\n",
       "      <td>NaN</td>\n",
       "    </tr>\n",
       "  </tbody>\n",
       "</table>\n",
       "</div>"
      ],
      "text/plain": [
       "   TreeDepth  Plugin                       Description  \\\n",
       "0          0  PsList  Process: 4096  (209519118647424)   \n",
       "1          0  PsList  Process: 4096  (209519118647424)   \n",
       "2          0  PsList  Process: 4096  (209519074865280)   \n",
       "3          0  PsList  Process: 4096  (209519074865280)   \n",
       "\n",
       "                  Created Date                Modified Date  Accessed Date  \\\n",
       "0  1601-01-01 00:00:35.000000   1601-01-01 00:02:34.000000             NaN   \n",
       "1  1601-01-01 00:00:35.000000                           NaN            NaN   \n",
       "2  1601-01-01 00:00:53.000000   1601-01-01 00:01:25.000000             NaN   \n",
       "3  1601-01-01 00:00:53.000000                           NaN            NaN   \n",
       "\n",
       "   Changed Date  \n",
       "0           NaN  \n",
       "1           NaN  \n",
       "2           NaN  \n",
       "3           NaN  "
      ]
     },
     "execution_count": 87,
     "metadata": {},
     "output_type": "execute_result"
    }
   ],
   "source": [
    "df[df.stack().str.contains(\"1601-01-01\").any(level=0)]"
   ]
  },
  {
   "cell_type": "code",
   "execution_count": 92,
   "metadata": {
    "scrolled": true
   },
   "outputs": [
    {
     "ename": "SyntaxError",
     "evalue": "leading zeros in decimal integer literals are not permitted; use an 0o prefix for octal integers (<ipython-input-92-72ff143f586a>, line 1)",
     "output_type": "error",
     "traceback": [
      "\u001b[0;36m  File \u001b[0;32m\"<ipython-input-92-72ff143f586a>\"\u001b[0;36m, line \u001b[0;32m1\u001b[0m\n\u001b[0;31m    df_filtered = df[df[\"CreatedDate\"] != 1601-01-01 00:00:53.000000]\u001b[0m\n\u001b[0m                                                ^\u001b[0m\n\u001b[0;31mSyntaxError\u001b[0m\u001b[0;31m:\u001b[0m leading zeros in decimal integer literals are not permitted; use an 0o prefix for octal integers\n"
     ]
    }
   ],
   "source": [
    "df_filtered = df[df[\"CreatedDate\"] != 1601-01-01 00:00:53.000000]"
   ]
  },
  {
   "cell_type": "markdown",
   "metadata": {},
   "source": [
    "After some stack overflowing I found this: https://stackoverflow.com/questions/32888124/pandas-out-of-bounds-nanosecond-timestamp-after-offset-rollforward-plus-adding-a. It looks like you can add a coerce option and get the out of bounds times changes to NaT which might be easier to filter out. The example from stack overflow looks like this: datetime_variable = pd.to_datetime(datetime_variable, errors = 'coerce')"
   ]
  },
  {
   "cell_type": "code",
   "execution_count": 119,
   "metadata": {},
   "outputs": [],
   "source": [
    "df['datetime'] = pd.to_datetime(df['Created Date'], errors = 'coerce')"
   ]
  },
  {
   "cell_type": "markdown",
   "metadata": {},
   "source": [
    "Looks like it worked! Now let's see if we can filter by NaT. The filter is not representd by \"~\" and then isna(). So it is saying filter where the datatime files is not null or NaT."
   ]
  },
  {
   "cell_type": "code",
   "execution_count": 120,
   "metadata": {},
   "outputs": [
    {
     "data": {
      "text/html": [
       "<div>\n",
       "<style scoped>\n",
       "    .dataframe tbody tr th:only-of-type {\n",
       "        vertical-align: middle;\n",
       "    }\n",
       "\n",
       "    .dataframe tbody tr th {\n",
       "        vertical-align: top;\n",
       "    }\n",
       "\n",
       "    .dataframe thead th {\n",
       "        text-align: right;\n",
       "    }\n",
       "</style>\n",
       "<table border=\"1\" class=\"dataframe\">\n",
       "  <thead>\n",
       "    <tr style=\"text-align: right;\">\n",
       "      <th></th>\n",
       "      <th>TreeDepth</th>\n",
       "      <th>Plugin</th>\n",
       "      <th>Description</th>\n",
       "      <th>Created Date</th>\n",
       "      <th>Modified Date</th>\n",
       "      <th>Accessed Date</th>\n",
       "      <th>Changed Date</th>\n",
       "      <th>datetime</th>\n",
       "    </tr>\n",
       "  </thead>\n",
       "  <tbody>\n",
       "    <tr>\n",
       "      <th>4</th>\n",
       "      <td>0</td>\n",
       "      <td>PsList</td>\n",
       "      <td>Process: 92 Registry (209518991138944)</td>\n",
       "      <td>2020-09-19 01:24:04.000000</td>\n",
       "      <td>NaN</td>\n",
       "      <td>NaN</td>\n",
       "      <td>NaN</td>\n",
       "      <td>2020-09-19 01:24:04</td>\n",
       "    </tr>\n",
       "    <tr>\n",
       "      <th>5</th>\n",
       "      <td>0</td>\n",
       "      <td>PsList</td>\n",
       "      <td>Process: 92 Registry (209518991138944)</td>\n",
       "      <td>2020-09-19 01:24:04.000000</td>\n",
       "      <td>NaN</td>\n",
       "      <td>NaN</td>\n",
       "      <td>NaN</td>\n",
       "      <td>2020-09-19 01:24:04</td>\n",
       "    </tr>\n",
       "    <tr>\n",
       "      <th>6</th>\n",
       "      <td>0</td>\n",
       "      <td>PsScan</td>\n",
       "      <td>Process: 92 Registry (209518991138944)</td>\n",
       "      <td>2020-09-19 01:24:04.000000</td>\n",
       "      <td>NaN</td>\n",
       "      <td>NaN</td>\n",
       "      <td>NaN</td>\n",
       "      <td>2020-09-19 01:24:04</td>\n",
       "    </tr>\n",
       "    <tr>\n",
       "      <th>7</th>\n",
       "      <td>0</td>\n",
       "      <td>PsScan</td>\n",
       "      <td>Process: 92 Registry (209518991138944)</td>\n",
       "      <td>2020-09-19 01:24:04.000000</td>\n",
       "      <td>NaN</td>\n",
       "      <td>NaN</td>\n",
       "      <td>NaN</td>\n",
       "      <td>2020-09-19 01:24:04</td>\n",
       "    </tr>\n",
       "    <tr>\n",
       "      <th>8</th>\n",
       "      <td>0</td>\n",
       "      <td>PsList</td>\n",
       "      <td>Process: 4 System (209518991011904)</td>\n",
       "      <td>2020-09-19 01:24:07.000000</td>\n",
       "      <td>NaN</td>\n",
       "      <td>NaN</td>\n",
       "      <td>NaN</td>\n",
       "      <td>2020-09-19 01:24:07</td>\n",
       "    </tr>\n",
       "    <tr>\n",
       "      <th>...</th>\n",
       "      <td>...</td>\n",
       "      <td>...</td>\n",
       "      <td>...</td>\n",
       "      <td>...</td>\n",
       "      <td>...</td>\n",
       "      <td>...</td>\n",
       "      <td>...</td>\n",
       "      <td>...</td>\n",
       "    </tr>\n",
       "    <tr>\n",
       "      <th>427</th>\n",
       "      <td>0</td>\n",
       "      <td>PsScan</td>\n",
       "      <td>Process: 6544 FTK Imager.exe (209519090503808)</td>\n",
       "      <td>2020-09-19 05:09:56.000000</td>\n",
       "      <td>NaN</td>\n",
       "      <td>NaN</td>\n",
       "      <td>NaN</td>\n",
       "      <td>2020-09-19 05:09:56</td>\n",
       "    </tr>\n",
       "    <tr>\n",
       "      <th>428</th>\n",
       "      <td>0</td>\n",
       "      <td>PsScan</td>\n",
       "      <td>Process: 4868 backgroundTask (209519119593600)</td>\n",
       "      <td>2020-09-19 05:10:08.000000</td>\n",
       "      <td>NaN</td>\n",
       "      <td>NaN</td>\n",
       "      <td>NaN</td>\n",
       "      <td>2020-09-19 05:10:08</td>\n",
       "    </tr>\n",
       "    <tr>\n",
       "      <th>429</th>\n",
       "      <td>0</td>\n",
       "      <td>PsScan</td>\n",
       "      <td>Process: 4868 backgroundTask (209519119593600)</td>\n",
       "      <td>2020-09-19 05:10:08.000000</td>\n",
       "      <td>NaN</td>\n",
       "      <td>NaN</td>\n",
       "      <td>NaN</td>\n",
       "      <td>2020-09-19 05:10:08</td>\n",
       "    </tr>\n",
       "    <tr>\n",
       "      <th>430</th>\n",
       "      <td>0</td>\n",
       "      <td>PsScan</td>\n",
       "      <td>Process: 3696 RuntimeBroker. (209519118319744)</td>\n",
       "      <td>2020-09-19 05:10:09.000000</td>\n",
       "      <td>NaN</td>\n",
       "      <td>NaN</td>\n",
       "      <td>NaN</td>\n",
       "      <td>2020-09-19 05:10:09</td>\n",
       "    </tr>\n",
       "    <tr>\n",
       "      <th>431</th>\n",
       "      <td>0</td>\n",
       "      <td>PsScan</td>\n",
       "      <td>Process: 3696 RuntimeBroker. (209519118319744)</td>\n",
       "      <td>2020-09-19 05:10:09.000000</td>\n",
       "      <td>NaN</td>\n",
       "      <td>NaN</td>\n",
       "      <td>NaN</td>\n",
       "      <td>2020-09-19 05:10:09</td>\n",
       "    </tr>\n",
       "  </tbody>\n",
       "</table>\n",
       "<p>428 rows × 8 columns</p>\n",
       "</div>"
      ],
      "text/plain": [
       "     TreeDepth  Plugin                                     Description  \\\n",
       "4            0  PsList          Process: 92 Registry (209518991138944)   \n",
       "5            0  PsList          Process: 92 Registry (209518991138944)   \n",
       "6            0  PsScan          Process: 92 Registry (209518991138944)   \n",
       "7            0  PsScan          Process: 92 Registry (209518991138944)   \n",
       "8            0  PsList             Process: 4 System (209518991011904)   \n",
       "..         ...     ...                                             ...   \n",
       "427          0  PsScan  Process: 6544 FTK Imager.exe (209519090503808)   \n",
       "428          0  PsScan  Process: 4868 backgroundTask (209519119593600)   \n",
       "429          0  PsScan  Process: 4868 backgroundTask (209519119593600)   \n",
       "430          0  PsScan  Process: 3696 RuntimeBroker. (209519118319744)   \n",
       "431          0  PsScan  Process: 3696 RuntimeBroker. (209519118319744)   \n",
       "\n",
       "                    Created Date Modified Date  Accessed Date  Changed Date  \\\n",
       "4    2020-09-19 01:24:04.000000            NaN            NaN           NaN   \n",
       "5    2020-09-19 01:24:04.000000            NaN            NaN           NaN   \n",
       "6    2020-09-19 01:24:04.000000            NaN            NaN           NaN   \n",
       "7    2020-09-19 01:24:04.000000            NaN            NaN           NaN   \n",
       "8    2020-09-19 01:24:07.000000            NaN            NaN           NaN   \n",
       "..                           ...           ...            ...           ...   \n",
       "427  2020-09-19 05:09:56.000000            NaN            NaN           NaN   \n",
       "428  2020-09-19 05:10:08.000000            NaN            NaN           NaN   \n",
       "429  2020-09-19 05:10:08.000000            NaN            NaN           NaN   \n",
       "430  2020-09-19 05:10:09.000000            NaN            NaN           NaN   \n",
       "431  2020-09-19 05:10:09.000000            NaN            NaN           NaN   \n",
       "\n",
       "               datetime  \n",
       "4   2020-09-19 01:24:04  \n",
       "5   2020-09-19 01:24:04  \n",
       "6   2020-09-19 01:24:04  \n",
       "7   2020-09-19 01:24:04  \n",
       "8   2020-09-19 01:24:07  \n",
       "..                  ...  \n",
       "427 2020-09-19 05:09:56  \n",
       "428 2020-09-19 05:10:08  \n",
       "429 2020-09-19 05:10:08  \n",
       "430 2020-09-19 05:10:09  \n",
       "431 2020-09-19 05:10:09  \n",
       "\n",
       "[428 rows x 8 columns]"
      ]
     },
     "execution_count": 120,
     "metadata": {},
     "output_type": "execute_result"
    }
   ],
   "source": [
    "df[~df[\"datetime\"].isna()]\n"
   ]
  },
  {
   "cell_type": "markdown",
   "metadata": {},
   "source": [
    "When we did the search for 1601 we got back 4 hits. The total number of hits for the dataframe was 432 if we remove our 4 bad timestamps that leaves us with 428, which looks right."
   ]
  },
  {
   "cell_type": "code",
   "execution_count": 121,
   "metadata": {},
   "outputs": [],
   "source": [
    "df_filtered = df[~df[\"datetime\"].isna()]\n"
   ]
  },
  {
   "cell_type": "code",
   "execution_count": 114,
   "metadata": {
    "scrolled": true
   },
   "outputs": [
    {
     "name": "stderr",
     "output_type": "stream",
     "text": [
      "<ipython-input-114-623099acc4ee>:1: SettingWithCopyWarning: \n",
      "A value is trying to be set on a copy of a slice from a DataFrame.\n",
      "Try using .loc[row_indexer,col_indexer] = value instead\n",
      "\n",
      "See the caveats in the documentation: https://pandas.pydata.org/pandas-docs/stable/user_guide/indexing.html#returning-a-view-versus-a-copy\n",
      "  df['data_type'] = 'volatility3:timeline:Timeliner:record'\n",
      "<ipython-input-114-623099acc4ee>:2: SettingWithCopyWarning: \n",
      "A value is trying to be set on a copy of a slice from a DataFrame.\n",
      "Try using .loc[row_indexer,col_indexer] = value instead\n",
      "\n",
      "See the caveats in the documentation: https://pandas.pydata.org/pandas-docs/stable/user_guide/indexing.html#returning-a-view-versus-a-copy\n",
      "  df['timestamp_desc'] = 'Created Date'\n",
      "<ipython-input-114-623099acc4ee>:3: SettingWithCopyWarning: \n",
      "A value is trying to be set on a copy of a slice from a DataFrame.\n",
      "Try using .loc[row_indexer,col_indexer] = value instead\n",
      "\n",
      "See the caveats in the documentation: https://pandas.pydata.org/pandas-docs/stable/user_guide/indexing.html#returning-a-view-versus-a-copy\n",
      "  df['message'] = 'Volatility3: [' + df['Plugin'] + ' - ' + df['Description'] + ']'\n"
     ]
    },
    {
     "data": {
      "text/html": [
       "<div>\n",
       "<style scoped>\n",
       "    .dataframe tbody tr th:only-of-type {\n",
       "        vertical-align: middle;\n",
       "    }\n",
       "\n",
       "    .dataframe tbody tr th {\n",
       "        vertical-align: top;\n",
       "    }\n",
       "\n",
       "    .dataframe thead th {\n",
       "        text-align: right;\n",
       "    }\n",
       "</style>\n",
       "<table border=\"1\" class=\"dataframe\">\n",
       "  <thead>\n",
       "    <tr style=\"text-align: right;\">\n",
       "      <th></th>\n",
       "      <th>TreeDepth</th>\n",
       "      <th>Plugin</th>\n",
       "      <th>Description</th>\n",
       "      <th>Created Date</th>\n",
       "      <th>Modified Date</th>\n",
       "      <th>Accessed Date</th>\n",
       "      <th>Changed Date</th>\n",
       "      <th>datetime</th>\n",
       "      <th>data_type</th>\n",
       "      <th>timestamp_desc</th>\n",
       "      <th>message</th>\n",
       "    </tr>\n",
       "  </thead>\n",
       "  <tbody>\n",
       "    <tr>\n",
       "      <th>4</th>\n",
       "      <td>0</td>\n",
       "      <td>PsList</td>\n",
       "      <td>Process: 92 Registry (209518991138944)</td>\n",
       "      <td>2020-09-19 01:24:04.000000</td>\n",
       "      <td>NaN</td>\n",
       "      <td>NaN</td>\n",
       "      <td>NaN</td>\n",
       "      <td>2020-09-19 01:24:04</td>\n",
       "      <td>volatility3:timeline:Timeliner:record</td>\n",
       "      <td>Created Date</td>\n",
       "      <td>Volatility3: [PsList - Process: 92 Registry (2...</td>\n",
       "    </tr>\n",
       "    <tr>\n",
       "      <th>5</th>\n",
       "      <td>0</td>\n",
       "      <td>PsList</td>\n",
       "      <td>Process: 92 Registry (209518991138944)</td>\n",
       "      <td>2020-09-19 01:24:04.000000</td>\n",
       "      <td>NaN</td>\n",
       "      <td>NaN</td>\n",
       "      <td>NaN</td>\n",
       "      <td>2020-09-19 01:24:04</td>\n",
       "      <td>volatility3:timeline:Timeliner:record</td>\n",
       "      <td>Created Date</td>\n",
       "      <td>Volatility3: [PsList - Process: 92 Registry (2...</td>\n",
       "    </tr>\n",
       "    <tr>\n",
       "      <th>6</th>\n",
       "      <td>0</td>\n",
       "      <td>PsScan</td>\n",
       "      <td>Process: 92 Registry (209518991138944)</td>\n",
       "      <td>2020-09-19 01:24:04.000000</td>\n",
       "      <td>NaN</td>\n",
       "      <td>NaN</td>\n",
       "      <td>NaN</td>\n",
       "      <td>2020-09-19 01:24:04</td>\n",
       "      <td>volatility3:timeline:Timeliner:record</td>\n",
       "      <td>Created Date</td>\n",
       "      <td>Volatility3: [PsScan - Process: 92 Registry (2...</td>\n",
       "    </tr>\n",
       "  </tbody>\n",
       "</table>\n",
       "</div>"
      ],
      "text/plain": [
       "   TreeDepth  Plugin                             Description  \\\n",
       "4          0  PsList  Process: 92 Registry (209518991138944)   \n",
       "5          0  PsList  Process: 92 Registry (209518991138944)   \n",
       "6          0  PsScan  Process: 92 Registry (209518991138944)   \n",
       "\n",
       "                  Created Date Modified Date  Accessed Date  Changed Date  \\\n",
       "4  2020-09-19 01:24:04.000000            NaN            NaN           NaN   \n",
       "5  2020-09-19 01:24:04.000000            NaN            NaN           NaN   \n",
       "6  2020-09-19 01:24:04.000000            NaN            NaN           NaN   \n",
       "\n",
       "             datetime                              data_type timestamp_desc  \\\n",
       "4 2020-09-19 01:24:04  volatility3:timeline:Timeliner:record   Created Date   \n",
       "5 2020-09-19 01:24:04  volatility3:timeline:Timeliner:record   Created Date   \n",
       "6 2020-09-19 01:24:04  volatility3:timeline:Timeliner:record   Created Date   \n",
       "\n",
       "                                             message  \n",
       "4  Volatility3: [PsList - Process: 92 Registry (2...  \n",
       "5  Volatility3: [PsList - Process: 92 Registry (2...  \n",
       "6  Volatility3: [PsScan - Process: 92 Registry (2...  "
      ]
     },
     "execution_count": 114,
     "metadata": {},
     "output_type": "execute_result"
    }
   ],
   "source": [
    "df['data_type'] = 'volatility3:timeline:Timeliner:record'\n",
    "df['timestamp_desc'] = 'Created Date'\n",
    "df['message'] = 'Volatility3: [' + df['Plugin'] + ' - ' + df['Description'] + ']'\n",
    "\n",
    "df.head(3)"
   ]
  },
  {
   "cell_type": "markdown",
   "metadata": {},
   "source": [
    "So, some weird errors, I don't really know what they mean, going to plan b to drop the entries in place. Going to rerun some previous cells to put things back. For ref: df.drop(df[df['Age'] < 25].index, inplace = True) from here: https://www.geeksforgeeks.org/drop-rows-from-the-dataframe-based-on-certain-condition-applied-on-a-column/"
   ]
  },
  {
   "cell_type": "code",
   "execution_count": 124,
   "metadata": {},
   "outputs": [],
   "source": [
    "df.drop(df[df['datetime'].isna()].index, inplace = True)"
   ]
  },
  {
   "cell_type": "code",
   "execution_count": 125,
   "metadata": {
    "scrolled": true
   },
   "outputs": [
    {
     "data": {
      "text/html": [
       "<div>\n",
       "<style scoped>\n",
       "    .dataframe tbody tr th:only-of-type {\n",
       "        vertical-align: middle;\n",
       "    }\n",
       "\n",
       "    .dataframe tbody tr th {\n",
       "        vertical-align: top;\n",
       "    }\n",
       "\n",
       "    .dataframe thead th {\n",
       "        text-align: right;\n",
       "    }\n",
       "</style>\n",
       "<table border=\"1\" class=\"dataframe\">\n",
       "  <thead>\n",
       "    <tr style=\"text-align: right;\">\n",
       "      <th></th>\n",
       "      <th>TreeDepth</th>\n",
       "      <th>Plugin</th>\n",
       "      <th>Description</th>\n",
       "      <th>Created Date</th>\n",
       "      <th>Modified Date</th>\n",
       "      <th>Accessed Date</th>\n",
       "      <th>Changed Date</th>\n",
       "      <th>datetime</th>\n",
       "      <th>data_type</th>\n",
       "      <th>timestamp_desc</th>\n",
       "      <th>message</th>\n",
       "    </tr>\n",
       "  </thead>\n",
       "  <tbody>\n",
       "    <tr>\n",
       "      <th>4</th>\n",
       "      <td>0</td>\n",
       "      <td>PsList</td>\n",
       "      <td>Process: 92 Registry (209518991138944)</td>\n",
       "      <td>2020-09-19 01:24:04.000000</td>\n",
       "      <td>NaN</td>\n",
       "      <td>NaN</td>\n",
       "      <td>NaN</td>\n",
       "      <td>2020-09-19 01:24:04</td>\n",
       "      <td>volatility3:timeline:Timeliner:record</td>\n",
       "      <td>Created Date</td>\n",
       "      <td>Volatility3: [PsList - Process: 92 Registry (2...</td>\n",
       "    </tr>\n",
       "    <tr>\n",
       "      <th>5</th>\n",
       "      <td>0</td>\n",
       "      <td>PsList</td>\n",
       "      <td>Process: 92 Registry (209518991138944)</td>\n",
       "      <td>2020-09-19 01:24:04.000000</td>\n",
       "      <td>NaN</td>\n",
       "      <td>NaN</td>\n",
       "      <td>NaN</td>\n",
       "      <td>2020-09-19 01:24:04</td>\n",
       "      <td>volatility3:timeline:Timeliner:record</td>\n",
       "      <td>Created Date</td>\n",
       "      <td>Volatility3: [PsList - Process: 92 Registry (2...</td>\n",
       "    </tr>\n",
       "    <tr>\n",
       "      <th>6</th>\n",
       "      <td>0</td>\n",
       "      <td>PsScan</td>\n",
       "      <td>Process: 92 Registry (209518991138944)</td>\n",
       "      <td>2020-09-19 01:24:04.000000</td>\n",
       "      <td>NaN</td>\n",
       "      <td>NaN</td>\n",
       "      <td>NaN</td>\n",
       "      <td>2020-09-19 01:24:04</td>\n",
       "      <td>volatility3:timeline:Timeliner:record</td>\n",
       "      <td>Created Date</td>\n",
       "      <td>Volatility3: [PsScan - Process: 92 Registry (2...</td>\n",
       "    </tr>\n",
       "  </tbody>\n",
       "</table>\n",
       "</div>"
      ],
      "text/plain": [
       "   TreeDepth  Plugin                             Description  \\\n",
       "4          0  PsList  Process: 92 Registry (209518991138944)   \n",
       "5          0  PsList  Process: 92 Registry (209518991138944)   \n",
       "6          0  PsScan  Process: 92 Registry (209518991138944)   \n",
       "\n",
       "                  Created Date Modified Date  Accessed Date  Changed Date  \\\n",
       "4  2020-09-19 01:24:04.000000            NaN            NaN           NaN   \n",
       "5  2020-09-19 01:24:04.000000            NaN            NaN           NaN   \n",
       "6  2020-09-19 01:24:04.000000            NaN            NaN           NaN   \n",
       "\n",
       "             datetime                              data_type timestamp_desc  \\\n",
       "4 2020-09-19 01:24:04  volatility3:timeline:Timeliner:record   Created Date   \n",
       "5 2020-09-19 01:24:04  volatility3:timeline:Timeliner:record   Created Date   \n",
       "6 2020-09-19 01:24:04  volatility3:timeline:Timeliner:record   Created Date   \n",
       "\n",
       "                                             message  \n",
       "4  Volatility3: [PsList - Process: 92 Registry (2...  \n",
       "5  Volatility3: [PsList - Process: 92 Registry (2...  \n",
       "6  Volatility3: [PsScan - Process: 92 Registry (2...  "
      ]
     },
     "execution_count": 125,
     "metadata": {},
     "output_type": "execute_result"
    }
   ],
   "source": [
    "df['data_type'] = 'volatility3:timeline:Timeliner:record'\n",
    "df['timestamp_desc'] = 'Created Date'\n",
    "df['message'] = 'Volatility3: [' + df['Plugin'] + ' - ' + df['Description'] + ']'\n",
    "\n",
    "df.head(3)"
   ]
  },
  {
   "cell_type": "markdown",
   "metadata": {},
   "source": [
    "That seemed to work. No more errors."
   ]
  },
  {
   "cell_type": "code",
   "execution_count": 127,
   "metadata": {},
   "outputs": [
    {
     "name": "stdout",
     "output_type": "stream",
     "text": [
      "sketch id:1 sketch name:szechuan sketch description:\n"
     ]
    }
   ],
   "source": [
    "for sketch in ts_client.list_sketches():\n",
    "    print(f\"sketch id:{sketch.id} sketch name:{sketch.name} sketch description:{sketch.description}\")"
   ]
  },
  {
   "cell_type": "code",
   "execution_count": 128,
   "metadata": {},
   "outputs": [],
   "source": [
    "# @markdown This needs to be changed to reflect the correct sketch.\n",
    "\n",
    "SKETCH_ID = 1 # @param {type: \"integer\"}"
   ]
  },
  {
   "cell_type": "code",
   "execution_count": 129,
   "metadata": {},
   "outputs": [],
   "source": [
    "sketch = ts_client.get_sketch(SKETCH_ID)\n",
    "import_helper = helper.ImportHelper() \n",
    "\n",
    "with importer.ImportStreamer() as streamer:\n",
    "  streamer.set_sketch(sketch)\n",
    "  streamer.set_config_helper(import_helper) \n",
    "\n",
    "  streamer.set_timeline_name('volatility3_desktop_SDN1RPT_memory')\n",
    "\n",
    "  streamer.add_data_frame(df)"
   ]
  }
 ],
 "metadata": {
  "kernelspec": {
   "display_name": "Python 3",
   "language": "python",
   "name": "python3"
  },
  "language_info": {
   "codemirror_mode": {
    "name": "ipython",
    "version": 3
   },
   "file_extension": ".py",
   "mimetype": "text/x-python",
   "name": "python",
   "nbconvert_exporter": "python",
   "pygments_lexer": "ipython3",
   "version": "3.8.5"
  }
 },
 "nbformat": 4,
 "nbformat_minor": 4
}
