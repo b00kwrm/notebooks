{
 "cells": [
  {
   "cell_type": "code",
   "execution_count": 1,
   "metadata": {},
   "outputs": [],
   "source": [
    "import os\n",
    "import codecs\n",
    "import pandas as pd"
   ]
  },
  {
   "cell_type": "code",
   "execution_count": 2,
   "metadata": {},
   "outputs": [
    {
     "name": "stdout",
     "output_type": "stream",
     "text": [
      "/home/ubuntu/jupyter/cases/stolen_szechuan_sauce/dc-filescan.csv\n"
     ]
    }
   ],
   "source": [
    "PATH_TO_FOLDER = '/home/ubuntu/jupyter/cases/stolen_szechuan_sauce/'\n",
    "CSV_FILE = 'dc-filescan.csv'\n",
    "PATH_TO_CSV = os.path.join(PATH_TO_FOLDER, CSV_FILE)\n",
    "print(PATH_TO_CSV)"
   ]
  },
  {
   "cell_type": "code",
   "execution_count": 3,
   "metadata": {},
   "outputs": [
    {
     "name": "stdout",
     "output_type": "stream",
     "text": [
      "(24326, 4)\n"
     ]
    }
   ],
   "source": [
    "df = None\n",
    "with codecs.open(PATH_TO_CSV, 'r', encoding='utf-8', errors='replace') as fh:\n",
    "  df = pd.read_csv(fh, error_bad_lines=False)\n",
    "\n",
    "print(df.shape)"
   ]
  },
  {
   "cell_type": "code",
   "execution_count": 4,
   "metadata": {},
   "outputs": [
    {
     "name": "stdout",
     "output_type": "stream",
     "text": [
      "<class 'pandas.core.frame.DataFrame'>\n",
      "RangeIndex: 24326 entries, 0 to 24325\n",
      "Data columns (total 4 columns):\n",
      " #   Column     Non-Null Count  Dtype \n",
      "---  ------     --------------  ----- \n",
      " 0   TreeDepth  24326 non-null  int64 \n",
      " 1   Offset     24326 non-null  object\n",
      " 2   Name       24316 non-null  object\n",
      " 3   Size       24326 non-null  int64 \n",
      "dtypes: int64(2), object(2)\n",
      "memory usage: 760.3+ KB\n"
     ]
    }
   ],
   "source": [
    "df.info()"
   ]
  },
  {
   "cell_type": "code",
   "execution_count": 14,
   "metadata": {},
   "outputs": [
    {
     "data": {
      "text/plain": [
       "\\Endpoint                                                                                                                                                                                     13557\n",
       "\\$Directory                                                                                                                                                                                     408\n",
       "\\CMNotify                                                                                                                                                                                        97\n",
       "\\Windows\\System32                                                                                                                                                                                74\n",
       "\u0003                                                                                                                                                                                                71\n",
       "                                                                                                                                                                                              ...  \n",
       "\\Users\\Administrator\\AppData\\Local\\Packages\\windows.immersivecontrolpanel_cw5n1h2txyewy\\LocalState\\Indexed\\Settings\\en-US\\Classic_{EDB046FF-3554-4BD0-B152-DE4DF7071CA8}.settingcontent-ms        1\n",
       "\\Users\\Administrator\\AppData\\Local\\Packages\\windows.immersivecontrolpanel_cw5n1h2txyewy\\LocalState\\Indexed\\Settings\\en-US\\Classic_{e2e7934b-dce5-43c4-9576-7fe4f75e7480}.settingcontent-ms        1\n",
       "\\Users\\Administrator\\AppData\\Local\\Packages\\windows.immersivecontrolpanel_cw5n1h2txyewy\\LocalState\\Indexed\\Settings\\en-US\\Classic_{F120B10E-C882-4613-955F-B4DF13C6E803}.settingcontent-ms        1\n",
       "\\Users\\Administrator\\AppData\\Local\\Packages\\windows.immersivecontrolpanel_cw5n1h2txyewy\\LocalState\\Indexed\\Settings\\en-US\\Classic_{8774b87d-a2b4-49a0-8237-bfefd00646c2}.settingcontent-ms        1\n",
       "\\Users\\Administrator\\AppData\\Local\\Packages\\windows.immersivecontrolpanel_cw5n1h2txyewy\\LocalState\\Indexed\\Settings\\en-US\\Classic_{889971be-c1c8-43dc-ae16-c8bfc27ce564}.settingcontent-ms        1\n",
       "Name: Name, Length: 4776, dtype: int64"
      ]
     },
     "execution_count": 14,
     "metadata": {},
     "output_type": "execute_result"
    }
   ],
   "source": [
    "df[\"Name\"].value_counts()"
   ]
  },
  {
   "cell_type": "markdown",
   "metadata": {},
   "source": [
    "Too much output to go through."
   ]
  },
  {
   "cell_type": "code",
   "execution_count": 13,
   "metadata": {},
   "outputs": [
    {
     "data": {
      "text/html": [
       "<div>\n",
       "<style scoped>\n",
       "    .dataframe tbody tr th:only-of-type {\n",
       "        vertical-align: middle;\n",
       "    }\n",
       "\n",
       "    .dataframe tbody tr th {\n",
       "        vertical-align: top;\n",
       "    }\n",
       "\n",
       "    .dataframe thead th {\n",
       "        text-align: right;\n",
       "    }\n",
       "</style>\n",
       "<table border=\"1\" class=\"dataframe\">\n",
       "  <thead>\n",
       "    <tr style=\"text-align: right;\">\n",
       "      <th></th>\n",
       "      <th>TreeDepth</th>\n",
       "      <th>Offset</th>\n",
       "      <th>Name</th>\n",
       "      <th>Size</th>\n",
       "    </tr>\n",
       "  </thead>\n",
       "  <tbody>\n",
       "    <tr>\n",
       "      <th>7161</th>\n",
       "      <td>0</td>\n",
       "      <td>0x130ddf20</td>\n",
       "      <td>\\Windows\\System32\\coreupdater.exereupdater.exe...</td>\n",
       "      <td>216</td>\n",
       "    </tr>\n",
       "    <tr>\n",
       "      <th>10361</th>\n",
       "      <td>0</td>\n",
       "      <td>0x2082ff20</td>\n",
       "      <td>\\Windows\\System32\\coreupdater.exereupdater.exe</td>\n",
       "      <td>216</td>\n",
       "    </tr>\n",
       "    <tr>\n",
       "      <th>18682</th>\n",
       "      <td>0</td>\n",
       "      <td>0x52317f20</td>\n",
       "      <td>\\Windows\\System32\\coreupdater.exereupdater.exe...</td>\n",
       "      <td>216</td>\n",
       "    </tr>\n",
       "    <tr>\n",
       "      <th>21881</th>\n",
       "      <td>0</td>\n",
       "      <td>0x5faa4f20</td>\n",
       "      <td>\\Windows\\System32\\coreupdater.exereupdater.exe</td>\n",
       "      <td>216</td>\n",
       "    </tr>\n",
       "  </tbody>\n",
       "</table>\n",
       "</div>"
      ],
      "text/plain": [
       "       TreeDepth      Offset  \\\n",
       "7161           0  0x130ddf20   \n",
       "10361          0  0x2082ff20   \n",
       "18682          0  0x52317f20   \n",
       "21881          0  0x5faa4f20   \n",
       "\n",
       "                                                    Name  Size  \n",
       "7161   \\Windows\\System32\\coreupdater.exereupdater.exe...   216  \n",
       "10361     \\Windows\\System32\\coreupdater.exereupdater.exe   216  \n",
       "18682  \\Windows\\System32\\coreupdater.exereupdater.exe...   216  \n",
       "21881     \\Windows\\System32\\coreupdater.exereupdater.exe   216  "
      ]
     },
     "execution_count": 13,
     "metadata": {},
     "output_type": "execute_result"
    }
   ],
   "source": [
    "df[df.stack().str.contains(\"coreupdate\").any(level=0)]"
   ]
  }
 ],
 "metadata": {
  "kernelspec": {
   "display_name": "Python 3",
   "language": "python",
   "name": "python3"
  },
  "language_info": {
   "codemirror_mode": {
    "name": "ipython",
    "version": 3
   },
   "file_extension": ".py",
   "mimetype": "text/x-python",
   "name": "python",
   "nbconvert_exporter": "python",
   "pygments_lexer": "ipython3",
   "version": "3.8.5"
  }
 },
 "nbformat": 4,
 "nbformat_minor": 4
}
