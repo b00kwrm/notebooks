{
 "cells": [
  {
   "cell_type": "markdown",
   "metadata": {},
   "source": [
    "# Working with malfind output from vol3 on the dc"
   ]
  },
  {
   "cell_type": "markdown",
   "metadata": {},
   "source": [
    "Get some libraries"
   ]
  },
  {
   "cell_type": "code",
   "execution_count": 1,
   "metadata": {},
   "outputs": [],
   "source": [
    "import os\n",
    "import codecs\n",
    "import pandas as pd"
   ]
  },
  {
   "cell_type": "markdown",
   "metadata": {},
   "source": [
    "Setup some paths to the files"
   ]
  },
  {
   "cell_type": "code",
   "execution_count": 2,
   "metadata": {},
   "outputs": [
    {
     "name": "stdout",
     "output_type": "stream",
     "text": [
      "/home/ubuntu/jupyter/cases/stolen_szechuan_sauce/dc-malfind.csv\n"
     ]
    }
   ],
   "source": [
    "PATH_TO_FOLDER = '/home/ubuntu/jupyter/cases/stolen_szechuan_sauce/'\n",
    "CSV_FILE = 'dc-malfind.csv'\n",
    "PATH_TO_CSV = os.path.join(PATH_TO_FOLDER, CSV_FILE)\n",
    "print(PATH_TO_CSV)"
   ]
  },
  {
   "cell_type": "markdown",
   "metadata": {},
   "source": [
    "Read the file into pandas."
   ]
  },
  {
   "cell_type": "code",
   "execution_count": 3,
   "metadata": {},
   "outputs": [
    {
     "name": "stdout",
     "output_type": "stream",
     "text": [
      "(15, 12)\n"
     ]
    }
   ],
   "source": [
    "df = None\n",
    "with codecs.open(PATH_TO_CSV, 'r', encoding='utf-8', errors='replace') as fh:\n",
    "  df = pd.read_csv(fh, error_bad_lines=False)\n",
    "\n",
    "print(df.shape)"
   ]
  },
  {
   "cell_type": "code",
   "execution_count": 4,
   "metadata": {},
   "outputs": [
    {
     "data": {
      "text/html": [
       "<div>\n",
       "<style scoped>\n",
       "    .dataframe tbody tr th:only-of-type {\n",
       "        vertical-align: middle;\n",
       "    }\n",
       "\n",
       "    .dataframe tbody tr th {\n",
       "        vertical-align: top;\n",
       "    }\n",
       "\n",
       "    .dataframe thead th {\n",
       "        text-align: right;\n",
       "    }\n",
       "</style>\n",
       "<table border=\"1\" class=\"dataframe\">\n",
       "  <thead>\n",
       "    <tr style=\"text-align: right;\">\n",
       "      <th></th>\n",
       "      <th>TreeDepth</th>\n",
       "      <th>PID</th>\n",
       "      <th>Process</th>\n",
       "      <th>Start VPN</th>\n",
       "      <th>End VPN</th>\n",
       "      <th>Tag</th>\n",
       "      <th>Protection</th>\n",
       "      <th>CommitCharge</th>\n",
       "      <th>PrivateMemory</th>\n",
       "      <th>File output</th>\n",
       "      <th>Hexdump</th>\n",
       "      <th>Disasm</th>\n",
       "    </tr>\n",
       "  </thead>\n",
       "  <tbody>\n",
       "    <tr>\n",
       "      <th>0</th>\n",
       "      <td>0</td>\n",
       "      <td>1292</td>\n",
       "      <td>Microsoft.Acti</td>\n",
       "      <td>0x10500120000</td>\n",
       "      <td>0x1050012ffff</td>\n",
       "      <td>VadS</td>\n",
       "      <td>PAGE_EXECUTE_READWRITE</td>\n",
       "      <td>4</td>\n",
       "      <td>1</td>\n",
       "      <td>Disabled</td>\n",
       "      <td>\\n00 00 00 00 00 00 00 00\\t........\\nb4 26 f3 ...</td>\n",
       "      <td>00 00 00 00 00 00 00 00 b4 26 f3 1c 40 13 00 0...</td>\n",
       "    </tr>\n",
       "    <tr>\n",
       "      <th>1</th>\n",
       "      <td>0</td>\n",
       "      <td>1292</td>\n",
       "      <td>Microsoft.Acti</td>\n",
       "      <td>0x10500100000</td>\n",
       "      <td>0x1050010cfff</td>\n",
       "      <td>VadS</td>\n",
       "      <td>PAGE_EXECUTE_READWRITE</td>\n",
       "      <td>1</td>\n",
       "      <td>1</td>\n",
       "      <td>Disabled</td>\n",
       "      <td>\\n00 00 00 00 00 00 00 00\\t........\\n08 00 10 ...</td>\n",
       "      <td>00 00 00 00 00 00 00 00 08 00 10 00 05 01 00 0...</td>\n",
       "    </tr>\n",
       "    <tr>\n",
       "      <th>2</th>\n",
       "      <td>0</td>\n",
       "      <td>1292</td>\n",
       "      <td>Microsoft.Acti</td>\n",
       "      <td>0x105001f0000</td>\n",
       "      <td>0x105001fffff</td>\n",
       "      <td>VadS</td>\n",
       "      <td>PAGE_EXECUTE_READWRITE</td>\n",
       "      <td>2</td>\n",
       "      <td>1</td>\n",
       "      <td>Disabled</td>\n",
       "      <td>\\n00 00 00 00 00 00 00 00\\t........\\n5c 67 95 ...</td>\n",
       "      <td>00 00 00 00 00 00 00 00 5c 67 95 04 1e 40 00 0...</td>\n",
       "    </tr>\n",
       "    <tr>\n",
       "      <th>3</th>\n",
       "      <td>0</td>\n",
       "      <td>1292</td>\n",
       "      <td>Microsoft.Acti</td>\n",
       "      <td>0x7ff5ff8d0000</td>\n",
       "      <td>0x7ff5ff8dffff</td>\n",
       "      <td>VadS</td>\n",
       "      <td>PAGE_EXECUTE_READWRITE</td>\n",
       "      <td>1</td>\n",
       "      <td>1</td>\n",
       "      <td>Disabled</td>\n",
       "      <td>\\n00 00 00 00 00 00 00 00\\t........\\n78 0d 00 ...</td>\n",
       "      <td>00 00 00 00 00 00 00 00 78 0d 00 00 00 00 00 0...</td>\n",
       "    </tr>\n",
       "    <tr>\n",
       "      <th>4</th>\n",
       "      <td>0</td>\n",
       "      <td>1292</td>\n",
       "      <td>Microsoft.Acti</td>\n",
       "      <td>0x7ff5ff8e0000</td>\n",
       "      <td>0x7ff5ff97ffff</td>\n",
       "      <td>VadS</td>\n",
       "      <td>PAGE_EXECUTE_READWRITE</td>\n",
       "      <td>2</td>\n",
       "      <td>1</td>\n",
       "      <td>Disabled</td>\n",
       "      <td>\\nd8 ff ff ff ff ff ff ff\\t........\\n08 00 00 ...</td>\n",
       "      <td>d8 ff ff ff ff ff ff ff 08 00 00 00 00 00 00 0...</td>\n",
       "    </tr>\n",
       "  </tbody>\n",
       "</table>\n",
       "</div>"
      ],
      "text/plain": [
       "   TreeDepth   PID         Process       Start VPN         End VPN   Tag  \\\n",
       "0          0  1292  Microsoft.Acti   0x10500120000   0x1050012ffff  VadS   \n",
       "1          0  1292  Microsoft.Acti   0x10500100000   0x1050010cfff  VadS   \n",
       "2          0  1292  Microsoft.Acti   0x105001f0000   0x105001fffff  VadS   \n",
       "3          0  1292  Microsoft.Acti  0x7ff5ff8d0000  0x7ff5ff8dffff  VadS   \n",
       "4          0  1292  Microsoft.Acti  0x7ff5ff8e0000  0x7ff5ff97ffff  VadS   \n",
       "\n",
       "               Protection  CommitCharge  PrivateMemory File output  \\\n",
       "0  PAGE_EXECUTE_READWRITE             4              1    Disabled   \n",
       "1  PAGE_EXECUTE_READWRITE             1              1    Disabled   \n",
       "2  PAGE_EXECUTE_READWRITE             2              1    Disabled   \n",
       "3  PAGE_EXECUTE_READWRITE             1              1    Disabled   \n",
       "4  PAGE_EXECUTE_READWRITE             2              1    Disabled   \n",
       "\n",
       "                                             Hexdump  \\\n",
       "0  \\n00 00 00 00 00 00 00 00\\t........\\nb4 26 f3 ...   \n",
       "1  \\n00 00 00 00 00 00 00 00\\t........\\n08 00 10 ...   \n",
       "2  \\n00 00 00 00 00 00 00 00\\t........\\n5c 67 95 ...   \n",
       "3  \\n00 00 00 00 00 00 00 00\\t........\\n78 0d 00 ...   \n",
       "4  \\nd8 ff ff ff ff ff ff ff\\t........\\n08 00 00 ...   \n",
       "\n",
       "                                              Disasm  \n",
       "0  00 00 00 00 00 00 00 00 b4 26 f3 1c 40 13 00 0...  \n",
       "1  00 00 00 00 00 00 00 00 08 00 10 00 05 01 00 0...  \n",
       "2  00 00 00 00 00 00 00 00 5c 67 95 04 1e 40 00 0...  \n",
       "3  00 00 00 00 00 00 00 00 78 0d 00 00 00 00 00 0...  \n",
       "4  d8 ff ff ff ff ff ff ff 08 00 00 00 00 00 00 0...  "
      ]
     },
     "execution_count": 4,
     "metadata": {},
     "output_type": "execute_result"
    }
   ],
   "source": [
    "df.head()"
   ]
  },
  {
   "cell_type": "markdown",
   "metadata": {},
   "source": [
    "Looks like we have some data that might work. There are 15 rows and 11 columns. Let's look a the processes."
   ]
  },
  {
   "cell_type": "code",
   "execution_count": 26,
   "metadata": {},
   "outputs": [
    {
     "data": {
      "text/plain": [
       "Microsoft.Acti    5\n",
       "spoolsv.exe       4\n",
       "ServerManager.    3\n",
       "explorer.exe      2\n",
       "svchost.exe       1\n",
       "Name: Process, dtype: int64"
      ]
     },
     "execution_count": 26,
     "metadata": {},
     "output_type": "execute_result"
    }
   ],
   "source": [
    "df[\"Process\"].value_counts()"
   ]
  },
  {
   "cell_type": "markdown",
   "metadata": {},
   "source": [
    "Let's look to see if the letters \"MZ\" show up anywhere."
   ]
  },
  {
   "cell_type": "code",
   "execution_count": 75,
   "metadata": {},
   "outputs": [
    {
     "data": {
      "text/html": [
       "<div>\n",
       "<style scoped>\n",
       "    .dataframe tbody tr th:only-of-type {\n",
       "        vertical-align: middle;\n",
       "    }\n",
       "\n",
       "    .dataframe tbody tr th {\n",
       "        vertical-align: top;\n",
       "    }\n",
       "\n",
       "    .dataframe thead th {\n",
       "        text-align: right;\n",
       "    }\n",
       "</style>\n",
       "<table border=\"1\" class=\"dataframe\">\n",
       "  <thead>\n",
       "    <tr style=\"text-align: right;\">\n",
       "      <th></th>\n",
       "      <th>TreeDepth</th>\n",
       "      <th>PID</th>\n",
       "      <th>Process</th>\n",
       "      <th>Start VPN</th>\n",
       "      <th>End VPN</th>\n",
       "      <th>Tag</th>\n",
       "      <th>Protection</th>\n",
       "      <th>CommitCharge</th>\n",
       "      <th>PrivateMemory</th>\n",
       "      <th>File output</th>\n",
       "      <th>Hexdump</th>\n",
       "      <th>Disasm</th>\n",
       "    </tr>\n",
       "  </thead>\n",
       "  <tbody>\n",
       "    <tr>\n",
       "      <th>7</th>\n",
       "      <td>0</td>\n",
       "      <td>3724</td>\n",
       "      <td>spoolsv.exe</td>\n",
       "      <td>0x4afc1f0000</td>\n",
       "      <td>0x4afc25afff</td>\n",
       "      <td>VadS</td>\n",
       "      <td>PAGE_EXECUTE_READWRITE</td>\n",
       "      <td>107</td>\n",
       "      <td>1</td>\n",
       "      <td>Disabled</td>\n",
       "      <td>\\n4d 5a 90 00 03 00 00 00\\tMZ......\\n04 00 00 ...</td>\n",
       "      <td>4d 5a 90 00 03 00 00 00 04 00 00 00 ff ff 00 0...</td>\n",
       "    </tr>\n",
       "    <tr>\n",
       "      <th>8</th>\n",
       "      <td>0</td>\n",
       "      <td>3724</td>\n",
       "      <td>spoolsv.exe</td>\n",
       "      <td>0x4afc070000</td>\n",
       "      <td>0x4afc0a8fff</td>\n",
       "      <td>VadS</td>\n",
       "      <td>PAGE_EXECUTE_READWRITE</td>\n",
       "      <td>57</td>\n",
       "      <td>1</td>\n",
       "      <td>Disabled</td>\n",
       "      <td>\\n4d 5a 41 52 55 48 89 e5\\tMZARUH..\\n48 83 ec ...</td>\n",
       "      <td>4d 5a 41 52 55 48 89 e5 48 83 ec 20 48 83 e4 f...</td>\n",
       "    </tr>\n",
       "    <tr>\n",
       "      <th>9</th>\n",
       "      <td>0</td>\n",
       "      <td>3724</td>\n",
       "      <td>spoolsv.exe</td>\n",
       "      <td>0x4afc260000</td>\n",
       "      <td>0x4afc283fff</td>\n",
       "      <td>VadS</td>\n",
       "      <td>PAGE_EXECUTE_READWRITE</td>\n",
       "      <td>36</td>\n",
       "      <td>1</td>\n",
       "      <td>Disabled</td>\n",
       "      <td>\\n4d 5a 90 00 03 00 00 00\\tMZ......\\n04 00 00 ...</td>\n",
       "      <td>4d 5a 90 00 03 00 00 00 04 00 00 00 ff ff 00 0...</td>\n",
       "    </tr>\n",
       "  </tbody>\n",
       "</table>\n",
       "</div>"
      ],
      "text/plain": [
       "   TreeDepth   PID      Process     Start VPN       End VPN   Tag  \\\n",
       "7          0  3724  spoolsv.exe  0x4afc1f0000  0x4afc25afff  VadS   \n",
       "8          0  3724  spoolsv.exe  0x4afc070000  0x4afc0a8fff  VadS   \n",
       "9          0  3724  spoolsv.exe  0x4afc260000  0x4afc283fff  VadS   \n",
       "\n",
       "               Protection  CommitCharge  PrivateMemory File output  \\\n",
       "7  PAGE_EXECUTE_READWRITE           107              1    Disabled   \n",
       "8  PAGE_EXECUTE_READWRITE            57              1    Disabled   \n",
       "9  PAGE_EXECUTE_READWRITE            36              1    Disabled   \n",
       "\n",
       "                                             Hexdump  \\\n",
       "7  \\n4d 5a 90 00 03 00 00 00\\tMZ......\\n04 00 00 ...   \n",
       "8  \\n4d 5a 41 52 55 48 89 e5\\tMZARUH..\\n48 83 ec ...   \n",
       "9  \\n4d 5a 90 00 03 00 00 00\\tMZ......\\n04 00 00 ...   \n",
       "\n",
       "                                              Disasm  \n",
       "7  4d 5a 90 00 03 00 00 00 04 00 00 00 ff ff 00 0...  \n",
       "8  4d 5a 41 52 55 48 89 e5 48 83 ec 20 48 83 e4 f...  \n",
       "9  4d 5a 90 00 03 00 00 00 04 00 00 00 ff ff 00 0...  "
      ]
     },
     "execution_count": 75,
     "metadata": {},
     "output_type": "execute_result"
    }
   ],
   "source": [
    "df[df.stack().str.contains(\"MZ\").any(level=0)]\n",
    "\n",
    "    \n",
    "\n",
    "        \n",
    "\n",
    "    \n",
    "    \n",
    "    "
   ]
  },
  {
   "cell_type": "code",
   "execution_count": null,
   "metadata": {},
   "outputs": [],
   "source": []
  }
 ],
 "metadata": {
  "kernelspec": {
   "display_name": "Python 3",
   "language": "python",
   "name": "python3"
  },
  "language_info": {
   "codemirror_mode": {
    "name": "ipython",
    "version": 3
   },
   "file_extension": ".py",
   "mimetype": "text/x-python",
   "name": "python",
   "nbconvert_exporter": "python",
   "pygments_lexer": "ipython3",
   "version": "3.8.5"
  }
 },
 "nbformat": 4,
 "nbformat_minor": 4
}
