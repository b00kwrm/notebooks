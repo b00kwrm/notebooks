{
 "cells": [
  {
   "cell_type": "markdown",
   "metadata": {},
   "source": [
    "# Working with volatility3 netscan output from a dc"
   ]
  },
  {
   "cell_type": "markdown",
   "metadata": {},
   "source": [
    "Get some of the needed modules"
   ]
  },
  {
   "cell_type": "code",
   "execution_count": 1,
   "metadata": {},
   "outputs": [],
   "source": [
    "import os\n",
    "import codecs\n",
    "import pandas as pd"
   ]
  },
  {
   "cell_type": "markdown",
   "metadata": {},
   "source": [
    "Setup some paths to the files"
   ]
  },
  {
   "cell_type": "code",
   "execution_count": 3,
   "metadata": {},
   "outputs": [
    {
     "name": "stdout",
     "output_type": "stream",
     "text": [
      "/home/ubuntu/jupyter/cases/stolen_szechuan_sauce/dc-netscan.csv\n"
     ]
    }
   ],
   "source": [
    "PATH_TO_FOLDER = '/home/ubuntu/jupyter/cases/stolen_szechuan_sauce/'\n",
    "CSV_FILE = 'dc-netscan.csv'\n",
    "PATH_TO_CSV = os.path.join(PATH_TO_FOLDER, CSV_FILE)\n",
    "print(PATH_TO_CSV)"
   ]
  },
  {
   "cell_type": "markdown",
   "metadata": {},
   "source": [
    "Read the file into pandas"
   ]
  },
  {
   "cell_type": "code",
   "execution_count": 4,
   "metadata": {},
   "outputs": [
    {
     "name": "stdout",
     "output_type": "stream",
     "text": [
      "(19685, 11)\n"
     ]
    }
   ],
   "source": [
    "df = None\n",
    "with codecs.open(PATH_TO_CSV, 'r', encoding='utf-8', errors='replace') as fh:\n",
    "  df = pd.read_csv(fh, error_bad_lines=False)\n",
    "\n",
    "print(df.shape)"
   ]
  },
  {
   "cell_type": "code",
   "execution_count": 5,
   "metadata": {},
   "outputs": [
    {
     "data": {
      "text/html": [
       "<div>\n",
       "<style scoped>\n",
       "    .dataframe tbody tr th:only-of-type {\n",
       "        vertical-align: middle;\n",
       "    }\n",
       "\n",
       "    .dataframe tbody tr th {\n",
       "        vertical-align: top;\n",
       "    }\n",
       "\n",
       "    .dataframe thead th {\n",
       "        text-align: right;\n",
       "    }\n",
       "</style>\n",
       "<table border=\"1\" class=\"dataframe\">\n",
       "  <thead>\n",
       "    <tr style=\"text-align: right;\">\n",
       "      <th></th>\n",
       "      <th>TreeDepth</th>\n",
       "      <th>Offset</th>\n",
       "      <th>Proto</th>\n",
       "      <th>LocalAddr</th>\n",
       "      <th>LocalPort</th>\n",
       "      <th>ForeignAddr</th>\n",
       "      <th>ForeignPort</th>\n",
       "      <th>State</th>\n",
       "      <th>PID</th>\n",
       "      <th>Owner</th>\n",
       "      <th>Created</th>\n",
       "    </tr>\n",
       "  </thead>\n",
       "  <tbody>\n",
       "    <tr>\n",
       "      <th>0</th>\n",
       "      <td>0</td>\n",
       "      <td>0x1600730</td>\n",
       "      <td>UDPv4</td>\n",
       "      <td>0.0.0.0</td>\n",
       "      <td>0</td>\n",
       "      <td>*</td>\n",
       "      <td>0</td>\n",
       "      <td>NaN</td>\n",
       "      <td>1368</td>\n",
       "      <td>dns.exe</td>\n",
       "      <td>2020-09-19 01:22:57.000000</td>\n",
       "    </tr>\n",
       "    <tr>\n",
       "      <th>1</th>\n",
       "      <td>0</td>\n",
       "      <td>0x1600730</td>\n",
       "      <td>UDPv6</td>\n",
       "      <td>::</td>\n",
       "      <td>0</td>\n",
       "      <td>*</td>\n",
       "      <td>0</td>\n",
       "      <td>NaN</td>\n",
       "      <td>1368</td>\n",
       "      <td>dns.exe</td>\n",
       "      <td>2020-09-19 01:22:57.000000</td>\n",
       "    </tr>\n",
       "    <tr>\n",
       "      <th>2</th>\n",
       "      <td>0</td>\n",
       "      <td>0x1600ec0</td>\n",
       "      <td>UDPv4</td>\n",
       "      <td>0.0.0.0</td>\n",
       "      <td>0</td>\n",
       "      <td>*</td>\n",
       "      <td>0</td>\n",
       "      <td>NaN</td>\n",
       "      <td>1368</td>\n",
       "      <td>dns.exe</td>\n",
       "      <td>2020-09-19 01:22:57.000000</td>\n",
       "    </tr>\n",
       "    <tr>\n",
       "      <th>3</th>\n",
       "      <td>0</td>\n",
       "      <td>0x1600ec0</td>\n",
       "      <td>UDPv6</td>\n",
       "      <td>::</td>\n",
       "      <td>0</td>\n",
       "      <td>*</td>\n",
       "      <td>0</td>\n",
       "      <td>NaN</td>\n",
       "      <td>1368</td>\n",
       "      <td>dns.exe</td>\n",
       "      <td>2020-09-19 01:22:57.000000</td>\n",
       "    </tr>\n",
       "    <tr>\n",
       "      <th>4</th>\n",
       "      <td>0</td>\n",
       "      <td>0x1601790</td>\n",
       "      <td>UDPv4</td>\n",
       "      <td>0.0.0.0</td>\n",
       "      <td>0</td>\n",
       "      <td>*</td>\n",
       "      <td>0</td>\n",
       "      <td>NaN</td>\n",
       "      <td>1368</td>\n",
       "      <td>dns.exe</td>\n",
       "      <td>2020-09-19 01:22:57.000000</td>\n",
       "    </tr>\n",
       "  </tbody>\n",
       "</table>\n",
       "</div>"
      ],
      "text/plain": [
       "   TreeDepth     Offset  Proto LocalAddr  LocalPort ForeignAddr  ForeignPort  \\\n",
       "0          0  0x1600730  UDPv4   0.0.0.0          0           *            0   \n",
       "1          0  0x1600730  UDPv6        ::          0           *            0   \n",
       "2          0  0x1600ec0  UDPv4   0.0.0.0          0           *            0   \n",
       "3          0  0x1600ec0  UDPv6        ::          0           *            0   \n",
       "4          0  0x1601790  UDPv4   0.0.0.0          0           *            0   \n",
       "\n",
       "  State   PID    Owner                      Created  \n",
       "0   NaN  1368  dns.exe  2020-09-19 01:22:57.000000   \n",
       "1   NaN  1368  dns.exe  2020-09-19 01:22:57.000000   \n",
       "2   NaN  1368  dns.exe  2020-09-19 01:22:57.000000   \n",
       "3   NaN  1368  dns.exe  2020-09-19 01:22:57.000000   \n",
       "4   NaN  1368  dns.exe  2020-09-19 01:22:57.000000   "
      ]
     },
     "execution_count": 5,
     "metadata": {},
     "output_type": "execute_result"
    }
   ],
   "source": [
    "df.head()"
   ]
  },
  {
   "cell_type": "markdown",
   "metadata": {},
   "source": [
    "Looks like we have workable data. We have 19,685 rows and 11 columns. Let's try to find the unique Foreign Addresses."
   ]
  },
  {
   "cell_type": "code",
   "execution_count": 6,
   "metadata": {},
   "outputs": [
    {
     "data": {
      "text/plain": [
       "*                            19511\n",
       "0.0.0.0                         79\n",
       "::                              44\n",
       "fe80::2dcf:e660:be73:d220       28\n",
       "::1                             21\n",
       "203.78.103.109                   2\n",
       "Name: ForeignAddr, dtype: int64"
      ]
     },
     "execution_count": 6,
     "metadata": {},
     "output_type": "execute_result"
    }
   ],
   "source": [
    "df[\"ForeignAddr\"].value_counts()"
   ]
  },
  {
   "cell_type": "markdown",
   "metadata": {},
   "source": [
    "203.78.103.109 seems to stand out as it is not a link local address, a * or 0.0.0.0. Let's try to take a look at those lines."
   ]
  },
  {
   "cell_type": "code",
   "execution_count": 7,
   "metadata": {},
   "outputs": [
    {
     "data": {
      "text/html": [
       "<div>\n",
       "<style scoped>\n",
       "    .dataframe tbody tr th:only-of-type {\n",
       "        vertical-align: middle;\n",
       "    }\n",
       "\n",
       "    .dataframe tbody tr th {\n",
       "        vertical-align: top;\n",
       "    }\n",
       "\n",
       "    .dataframe thead th {\n",
       "        text-align: right;\n",
       "    }\n",
       "</style>\n",
       "<table border=\"1\" class=\"dataframe\">\n",
       "  <thead>\n",
       "    <tr style=\"text-align: right;\">\n",
       "      <th></th>\n",
       "      <th>TreeDepth</th>\n",
       "      <th>Offset</th>\n",
       "      <th>Proto</th>\n",
       "      <th>LocalAddr</th>\n",
       "      <th>LocalPort</th>\n",
       "      <th>ForeignAddr</th>\n",
       "      <th>ForeignPort</th>\n",
       "      <th>State</th>\n",
       "      <th>PID</th>\n",
       "      <th>Owner</th>\n",
       "      <th>Created</th>\n",
       "    </tr>\n",
       "  </thead>\n",
       "  <tbody>\n",
       "    <tr>\n",
       "      <th>9209</th>\n",
       "      <td>0</td>\n",
       "      <td>0x20fc7590</td>\n",
       "      <td>TCPv4</td>\n",
       "      <td>10.42.85.10</td>\n",
       "      <td>62613</td>\n",
       "      <td>203.78.103.109</td>\n",
       "      <td>443</td>\n",
       "      <td>ESTABLISHED</td>\n",
       "      <td>3644</td>\n",
       "      <td>coreupdater.ex</td>\n",
       "      <td>NaN</td>\n",
       "    </tr>\n",
       "    <tr>\n",
       "      <th>18121</th>\n",
       "      <td>0</td>\n",
       "      <td>0x60182590</td>\n",
       "      <td>TCPv4</td>\n",
       "      <td>10.42.85.10</td>\n",
       "      <td>62613</td>\n",
       "      <td>203.78.103.109</td>\n",
       "      <td>443</td>\n",
       "      <td>ESTABLISHED</td>\n",
       "      <td>3644</td>\n",
       "      <td>coreupdater.ex</td>\n",
       "      <td>NaN</td>\n",
       "    </tr>\n",
       "  </tbody>\n",
       "</table>\n",
       "</div>"
      ],
      "text/plain": [
       "       TreeDepth      Offset  Proto    LocalAddr  LocalPort     ForeignAddr  \\\n",
       "9209           0  0x20fc7590  TCPv4  10.42.85.10      62613  203.78.103.109   \n",
       "18121          0  0x60182590  TCPv4  10.42.85.10      62613  203.78.103.109   \n",
       "\n",
       "       ForeignPort        State   PID           Owner Created  \n",
       "9209           443  ESTABLISHED  3644  coreupdater.ex     NaN  \n",
       "18121          443  ESTABLISHED  3644  coreupdater.ex     NaN  "
      ]
     },
     "execution_count": 7,
     "metadata": {},
     "output_type": "execute_result"
    }
   ],
   "source": [
    "df[df[\"ForeignAddr\"] == \"203.78.103.109\"]"
   ]
  },
  {
   "cell_type": "markdown",
   "metadata": {},
   "source": [
    "Looks like here we have a connection from the dc to the address 203.78.103.109 from the process coreupdater.ex. We have identified this process as suspcious before. "
   ]
  }
 ],
 "metadata": {
  "kernelspec": {
   "display_name": "Python 3",
   "language": "python",
   "name": "python3"
  },
  "language_info": {
   "codemirror_mode": {
    "name": "ipython",
    "version": 3
   },
   "file_extension": ".py",
   "mimetype": "text/x-python",
   "name": "python",
   "nbconvert_exporter": "python",
   "pygments_lexer": "ipython3",
   "version": "3.8.5"
  }
 },
 "nbformat": 4,
 "nbformat_minor": 4
}
